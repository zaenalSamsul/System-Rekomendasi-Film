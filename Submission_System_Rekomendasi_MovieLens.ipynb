{
  "cells": [
    {
      "cell_type": "code",
      "execution_count": 1,
      "metadata": {
        "colab": {
          "base_uri": "https://localhost:8080/"
        },
        "id": "gV6XCB0qYKQy",
        "outputId": "7abdb9cd-ebef-4a1b-b898-32f157072161"
      },
      "outputs": [
        {
          "output_type": "stream",
          "name": "stdout",
          "text": [
            "Requirement already satisfied: numpy==1.26.4 in /usr/local/lib/python3.11/dist-packages (1.26.4)\n"
          ]
        }
      ],
      "source": [
        "!pip install numpy==1.26.4"
      ]
    },
    {
      "cell_type": "code",
      "execution_count": 2,
      "metadata": {
        "colab": {
          "base_uri": "https://localhost:8080/"
        },
        "id": "RTqGeFqsSGG7",
        "outputId": "e671fac7-6bf7-4d97-8a8e-f1e7f2ef495d"
      },
      "outputs": [
        {
          "output_type": "stream",
          "name": "stdout",
          "text": [
            "Requirement already satisfied: scikit-surprise in /usr/local/lib/python3.11/dist-packages (1.1.4)\n",
            "Requirement already satisfied: joblib>=1.2.0 in /usr/local/lib/python3.11/dist-packages (from scikit-surprise) (1.5.0)\n",
            "Requirement already satisfied: numpy>=1.19.5 in /usr/local/lib/python3.11/dist-packages (from scikit-surprise) (1.26.4)\n",
            "Requirement already satisfied: scipy>=1.6.0 in /usr/local/lib/python3.11/dist-packages (from scikit-surprise) (1.15.3)\n"
          ]
        }
      ],
      "source": [
        "!pip install scikit-surprise"
      ]
    },
    {
      "cell_type": "code",
      "execution_count": 3,
      "metadata": {
        "colab": {
          "base_uri": "https://localhost:8080/"
        },
        "id": "Non5QQo5DzhR",
        "outputId": "bb200ff4-8697-4bda-a34c-f7fc56936d97"
      },
      "outputs": [
        {
          "output_type": "stream",
          "name": "stdout",
          "text": [
            "Requirement already satisfied: tensorflow in /usr/local/lib/python3.11/dist-packages (2.18.0)\n",
            "Requirement already satisfied: keras in /usr/local/lib/python3.11/dist-packages (3.8.0)\n",
            "Requirement already satisfied: pandas in /usr/local/lib/python3.11/dist-packages (2.2.2)\n",
            "Requirement already satisfied: scikit-learn in /usr/local/lib/python3.11/dist-packages (1.6.1)\n",
            "Requirement already satisfied: matplotlib in /usr/local/lib/python3.11/dist-packages (3.10.0)\n",
            "Requirement already satisfied: seaborn in /usr/local/lib/python3.11/dist-packages (0.13.2)\n",
            "Requirement already satisfied: absl-py>=1.0.0 in /usr/local/lib/python3.11/dist-packages (from tensorflow) (1.4.0)\n",
            "Requirement already satisfied: astunparse>=1.6.0 in /usr/local/lib/python3.11/dist-packages (from tensorflow) (1.6.3)\n",
            "Requirement already satisfied: flatbuffers>=24.3.25 in /usr/local/lib/python3.11/dist-packages (from tensorflow) (25.2.10)\n",
            "Requirement already satisfied: gast!=0.5.0,!=0.5.1,!=0.5.2,>=0.2.1 in /usr/local/lib/python3.11/dist-packages (from tensorflow) (0.6.0)\n",
            "Requirement already satisfied: google-pasta>=0.1.1 in /usr/local/lib/python3.11/dist-packages (from tensorflow) (0.2.0)\n",
            "Requirement already satisfied: libclang>=13.0.0 in /usr/local/lib/python3.11/dist-packages (from tensorflow) (18.1.1)\n",
            "Requirement already satisfied: opt-einsum>=2.3.2 in /usr/local/lib/python3.11/dist-packages (from tensorflow) (3.4.0)\n",
            "Requirement already satisfied: packaging in /usr/local/lib/python3.11/dist-packages (from tensorflow) (24.2)\n",
            "Requirement already satisfied: protobuf!=4.21.0,!=4.21.1,!=4.21.2,!=4.21.3,!=4.21.4,!=4.21.5,<6.0.0dev,>=3.20.3 in /usr/local/lib/python3.11/dist-packages (from tensorflow) (5.29.4)\n",
            "Requirement already satisfied: requests<3,>=2.21.0 in /usr/local/lib/python3.11/dist-packages (from tensorflow) (2.32.3)\n",
            "Requirement already satisfied: setuptools in /usr/local/lib/python3.11/dist-packages (from tensorflow) (75.2.0)\n",
            "Requirement already satisfied: six>=1.12.0 in /usr/local/lib/python3.11/dist-packages (from tensorflow) (1.17.0)\n",
            "Requirement already satisfied: termcolor>=1.1.0 in /usr/local/lib/python3.11/dist-packages (from tensorflow) (3.1.0)\n",
            "Requirement already satisfied: typing-extensions>=3.6.6 in /usr/local/lib/python3.11/dist-packages (from tensorflow) (4.13.2)\n",
            "Requirement already satisfied: wrapt>=1.11.0 in /usr/local/lib/python3.11/dist-packages (from tensorflow) (1.17.2)\n",
            "Requirement already satisfied: grpcio<2.0,>=1.24.3 in /usr/local/lib/python3.11/dist-packages (from tensorflow) (1.71.0)\n",
            "Requirement already satisfied: tensorboard<2.19,>=2.18 in /usr/local/lib/python3.11/dist-packages (from tensorflow) (2.18.0)\n",
            "Requirement already satisfied: numpy<2.1.0,>=1.26.0 in /usr/local/lib/python3.11/dist-packages (from tensorflow) (1.26.4)\n",
            "Requirement already satisfied: h5py>=3.11.0 in /usr/local/lib/python3.11/dist-packages (from tensorflow) (3.13.0)\n",
            "Requirement already satisfied: ml-dtypes<0.5.0,>=0.4.0 in /usr/local/lib/python3.11/dist-packages (from tensorflow) (0.4.1)\n",
            "Requirement already satisfied: tensorflow-io-gcs-filesystem>=0.23.1 in /usr/local/lib/python3.11/dist-packages (from tensorflow) (0.37.1)\n",
            "Requirement already satisfied: rich in /usr/local/lib/python3.11/dist-packages (from keras) (13.9.4)\n",
            "Requirement already satisfied: namex in /usr/local/lib/python3.11/dist-packages (from keras) (0.0.9)\n",
            "Requirement already satisfied: optree in /usr/local/lib/python3.11/dist-packages (from keras) (0.15.0)\n",
            "Requirement already satisfied: python-dateutil>=2.8.2 in /usr/local/lib/python3.11/dist-packages (from pandas) (2.9.0.post0)\n",
            "Requirement already satisfied: pytz>=2020.1 in /usr/local/lib/python3.11/dist-packages (from pandas) (2025.2)\n",
            "Requirement already satisfied: tzdata>=2022.7 in /usr/local/lib/python3.11/dist-packages (from pandas) (2025.2)\n",
            "Requirement already satisfied: scipy>=1.6.0 in /usr/local/lib/python3.11/dist-packages (from scikit-learn) (1.15.3)\n",
            "Requirement already satisfied: joblib>=1.2.0 in /usr/local/lib/python3.11/dist-packages (from scikit-learn) (1.5.0)\n",
            "Requirement already satisfied: threadpoolctl>=3.1.0 in /usr/local/lib/python3.11/dist-packages (from scikit-learn) (3.6.0)\n",
            "Requirement already satisfied: contourpy>=1.0.1 in /usr/local/lib/python3.11/dist-packages (from matplotlib) (1.3.2)\n",
            "Requirement already satisfied: cycler>=0.10 in /usr/local/lib/python3.11/dist-packages (from matplotlib) (0.12.1)\n",
            "Requirement already satisfied: fonttools>=4.22.0 in /usr/local/lib/python3.11/dist-packages (from matplotlib) (4.58.0)\n",
            "Requirement already satisfied: kiwisolver>=1.3.1 in /usr/local/lib/python3.11/dist-packages (from matplotlib) (1.4.8)\n",
            "Requirement already satisfied: pillow>=8 in /usr/local/lib/python3.11/dist-packages (from matplotlib) (11.2.1)\n",
            "Requirement already satisfied: pyparsing>=2.3.1 in /usr/local/lib/python3.11/dist-packages (from matplotlib) (3.2.3)\n",
            "Requirement already satisfied: wheel<1.0,>=0.23.0 in /usr/local/lib/python3.11/dist-packages (from astunparse>=1.6.0->tensorflow) (0.45.1)\n",
            "Requirement already satisfied: charset-normalizer<4,>=2 in /usr/local/lib/python3.11/dist-packages (from requests<3,>=2.21.0->tensorflow) (3.4.2)\n",
            "Requirement already satisfied: idna<4,>=2.5 in /usr/local/lib/python3.11/dist-packages (from requests<3,>=2.21.0->tensorflow) (3.10)\n",
            "Requirement already satisfied: urllib3<3,>=1.21.1 in /usr/local/lib/python3.11/dist-packages (from requests<3,>=2.21.0->tensorflow) (2.4.0)\n",
            "Requirement already satisfied: certifi>=2017.4.17 in /usr/local/lib/python3.11/dist-packages (from requests<3,>=2.21.0->tensorflow) (2025.4.26)\n",
            "Requirement already satisfied: markdown>=2.6.8 in /usr/local/lib/python3.11/dist-packages (from tensorboard<2.19,>=2.18->tensorflow) (3.8)\n",
            "Requirement already satisfied: tensorboard-data-server<0.8.0,>=0.7.0 in /usr/local/lib/python3.11/dist-packages (from tensorboard<2.19,>=2.18->tensorflow) (0.7.2)\n",
            "Requirement already satisfied: werkzeug>=1.0.1 in /usr/local/lib/python3.11/dist-packages (from tensorboard<2.19,>=2.18->tensorflow) (3.1.3)\n",
            "Requirement already satisfied: markdown-it-py>=2.2.0 in /usr/local/lib/python3.11/dist-packages (from rich->keras) (3.0.0)\n",
            "Requirement already satisfied: pygments<3.0.0,>=2.13.0 in /usr/local/lib/python3.11/dist-packages (from rich->keras) (2.19.1)\n",
            "Requirement already satisfied: mdurl~=0.1 in /usr/local/lib/python3.11/dist-packages (from markdown-it-py>=2.2.0->rich->keras) (0.1.2)\n",
            "Requirement already satisfied: MarkupSafe>=2.1.1 in /usr/local/lib/python3.11/dist-packages (from werkzeug>=1.0.1->tensorboard<2.19,>=2.18->tensorflow) (3.0.2)\n"
          ]
        }
      ],
      "source": [
        "!pip install tensorflow keras pandas scikit-learn matplotlib seaborn"
      ]
    },
    {
      "cell_type": "markdown",
      "metadata": {
        "id": "_HgIrEmjD2z7"
      },
      "source": [
        "# **Import Library**"
      ]
    },
    {
      "cell_type": "code",
      "execution_count": 4,
      "metadata": {
        "id": "qYsBPMYJD0Lh"
      },
      "outputs": [],
      "source": [
        "import pandas as pd\n",
        "import numpy as np\n",
        "\n",
        "import tensorflow as tf\n",
        "from tensorflow.keras import layers, Model # noqa: F811\n",
        "from tensorflow.keras.losses import MeanSquaredError\n",
        "from tensorflow.keras.optimizers import Adam\n",
        "from tensorflow.keras.metrics import RootMeanSquaredError\n",
        "from sklearn.model_selection import train_test_split as sklearn_train_test_split # Untuk NCF\n",
        "\n",
        "\n",
        "# Scikit-surprise untuk Model Collaborative Filtering\n",
        "from surprise import Reader, Dataset, SVD # noqa: F811\n",
        "from surprise.model_selection import train_test_split as surprise_train_test_split\n",
        "from surprise import accuracy # noqa: F811\n",
        "\n",
        "# Scikit-learn untuk Content-Based dan Utilitas\n",
        "from sklearn.feature_extraction.text import TfidfVectorizer\n",
        "from sklearn.metrics.pairwise import cosine_similarity\n",
        "# from surprise import Reader, Dataset, SVD, accuracy # Duplikat, sudah diimpor\n",
        "# from surprise.model_selection import train_test_split # Duplikat\n",
        "import matplotlib.pyplot as plt\n",
        "import seaborn as sns\n",
        "from collections import defaultdict"
      ]
    },
    {
      "cell_type": "markdown",
      "metadata": {
        "id": "RlJGSRimD7j3"
      },
      "source": [
        "# **1. Data Loading & Overview**"
      ]
    },
    {
      "cell_type": "markdown",
      "metadata": {
        "id": "VFBgWoxCdi7Z"
      },
      "source": [
        "Tahap ini melibatkan mounting Google Drive (jika data ada di sana) dan memuat dataset film, rating, dan tag."
      ]
    },
    {
      "cell_type": "code",
      "execution_count": 5,
      "metadata": {
        "id": "y34ikZ9hD9z2",
        "colab": {
          "base_uri": "https://localhost:8080/"
        },
        "outputId": "8b491b65-5966-4a78-a933-923b445ac261"
      },
      "outputs": [
        {
          "output_type": "stream",
          "name": "stdout",
          "text": [
            "Drive already mounted at /content/drive; to attempt to forcibly remount, call drive.mount(\"/content/drive\", force_remount=True).\n"
          ]
        }
      ],
      "source": [
        "from google.colab import drive\n",
        "drive.mount('/content/drive')"
      ]
    },
    {
      "cell_type": "markdown",
      "source": [
        "Bagian ini digunakan untuk menghubungkan Google Drive ke Google Colab. Dengan ini, file dataset yang disimpan di Google Drive dapat diakses langsung dari Colab."
      ],
      "metadata": {
        "id": "EIfMvlLi6J8w"
      }
    },
    {
      "cell_type": "markdown",
      "source": [
        "3 csv dimuat dari file .csv di path content/mydrive dari drive. Menggunakan pandas:"
      ],
      "metadata": {
        "id": "dnnOow0K-65R"
      }
    },
    {
      "cell_type": "code",
      "execution_count": 6,
      "metadata": {
        "id": "SS-jNYGaD9uX",
        "colab": {
          "base_uri": "https://localhost:8080/"
        },
        "outputId": "c87a9c68-ec0e-4231-d8cf-fbdc95d16169"
      },
      "outputs": [
        {
          "output_type": "stream",
          "name": "stdout",
          "text": [
            "\n",
            "--- 2. Data Loading ---\n"
          ]
        }
      ],
      "source": [
        "print(\"\\n--- 2. Data Loading ---\")\n",
        "ratings= pd.read_csv('/content/drive/MyDrive/Machine Learning/Movie/rating.csv', nrows=120000)\n",
        "movies= pd.read_csv('/content/drive/MyDrive/Machine Learning/Movie/movie.csv', nrows=20000)\n",
        "tags= pd.read_csv('/content/drive/MyDrive/Machine Learning/Movie/tag.csv', nrows=20000)"
      ]
    },
    {
      "cell_type": "markdown",
      "source": [
        "Baris ini membaca file CSV yang berisi data rating, film, dan tag menggunakan pandas. Parameter nrows digunakan untuk membatasi jumlah baris data yang diambil, sehingga hanya sebagian dataset yang dimuat untuk efisiensi.\n",
        "\n"
      ],
      "metadata": {
        "id": "_yl1GxaG6PZV"
      }
    },
    {
      "cell_type": "code",
      "execution_count": 7,
      "metadata": {
        "id": "96sCcociD9o2"
      },
      "outputs": [],
      "source": [
        "# Membuat copy untuk diproses agar data asli tetap aman\n",
        "df_ratings = ratings.copy()\n",
        "df_movies = movies.copy()\n",
        "df_tags = tags.copy()"
      ]
    },
    {
      "cell_type": "markdown",
      "source": [
        "Salinan data dibuat dengan menggunakan copy(). Tujuannya adalah menjaga data asli tetap utuh sehingga jika terjadi modifikasi, kita masih memiliki data awal."
      ],
      "metadata": {
        "id": "4O7_OBTC6VZ6"
      }
    },
    {
      "cell_type": "markdown",
      "source": [
        "## **1. Informasi Dataset**"
      ],
      "metadata": {
        "id": "gioDpIDx_cZe"
      }
    },
    {
      "cell_type": "code",
      "execution_count": 8,
      "metadata": {
        "id": "8iwo9CvMFL8b",
        "colab": {
          "base_uri": "https://localhost:8080/"
        },
        "outputId": "49e974c7-9c97-47bd-8bdf-aac7429af6ea"
      },
      "outputs": [
        {
          "output_type": "stream",
          "name": "stdout",
          "text": [
            "\n",
            "--- 3. Melakukan Analisis Data Eksploratif (EDA) ---\n",
            "\n",
            "Contoh Data Movies:\n",
            "   movieId                    title  \\\n",
            "0        1         Toy Story (1995)   \n",
            "1        2           Jumanji (1995)   \n",
            "2        3  Grumpier Old Men (1995)   \n",
            "\n",
            "                                        genres  \n",
            "0  Adventure|Animation|Children|Comedy|Fantasy  \n",
            "1                   Adventure|Children|Fantasy  \n",
            "2                               Comedy|Romance  \n",
            "\n",
            "Contoh Data Ratings:\n",
            "   userId  movieId  rating            timestamp\n",
            "0       1        2     3.5  2005-04-02 23:53:47\n",
            "1       1       29     3.5  2005-04-02 23:31:16\n",
            "2       1       32     3.5  2005-04-02 23:33:39\n",
            "\n",
            "Contoh Data Tags:\n",
            "   userId  movieId          tag            timestamp\n",
            "0      18     4141  Mark Waters  2009-04-24 18:19:40\n",
            "1      65      208    dark hero  2013-05-10 01:41:18\n",
            "2      65      353    dark hero  2013-05-10 01:41:19\n"
          ]
        }
      ],
      "source": [
        "print(\"\\n--- 3. Melakukan Analisis Data Eksploratif (EDA) ---\")\n",
        "\n",
        "# Tampilan awal data\n",
        "print(\"\\nContoh Data Movies:\")\n",
        "print(df_movies.head(3))\n",
        "print(\"\\nContoh Data Ratings:\")\n",
        "print(df_ratings.head(3))\n",
        "print(\"\\nContoh Data Tags:\")\n",
        "print(df_tags.head(3))"
      ]
    },
    {
      "cell_type": "markdown",
      "source": [
        "Kode ini menampilkan beberapa baris awal dari masing-masing dataset menggunakan head() untuk memahami struktur data. Fungsi info() memberikan informasi penting tentang dataset seperti jumlah kolom, jenis data di setiap kolom, dan jumlah nilai non-null."
      ],
      "metadata": {
        "id": "9yw7mtpK_tOn"
      }
    },
    {
      "cell_type": "code",
      "execution_count": 9,
      "metadata": {
        "id": "IwH0KUO1FLqD",
        "colab": {
          "base_uri": "https://localhost:8080/"
        },
        "outputId": "de17ec6d-670f-468a-bc46-d9b519f083ce"
      },
      "outputs": [
        {
          "output_type": "stream",
          "name": "stdout",
          "text": [
            "\n",
            "Informasi Detail Movies:\n",
            "<class 'pandas.core.frame.DataFrame'>\n",
            "RangeIndex: 20000 entries, 0 to 19999\n",
            "Data columns (total 3 columns):\n",
            " #   Column   Non-Null Count  Dtype \n",
            "---  ------   --------------  ----- \n",
            " 0   movieId  20000 non-null  int64 \n",
            " 1   title    20000 non-null  object\n",
            " 2   genres   20000 non-null  object\n",
            "dtypes: int64(1), object(2)\n",
            "memory usage: 468.9+ KB\n",
            "\n",
            "Informasi Detail Ratings:\n",
            "<class 'pandas.core.frame.DataFrame'>\n",
            "RangeIndex: 120000 entries, 0 to 119999\n",
            "Data columns (total 4 columns):\n",
            " #   Column     Non-Null Count   Dtype  \n",
            "---  ------     --------------   -----  \n",
            " 0   userId     120000 non-null  int64  \n",
            " 1   movieId    120000 non-null  int64  \n",
            " 2   rating     120000 non-null  float64\n",
            " 3   timestamp  120000 non-null  object \n",
            "dtypes: float64(1), int64(2), object(1)\n",
            "memory usage: 3.7+ MB\n",
            "\n",
            "Informasi Detail Tags:\n",
            "<class 'pandas.core.frame.DataFrame'>\n",
            "RangeIndex: 20000 entries, 0 to 19999\n",
            "Data columns (total 4 columns):\n",
            " #   Column     Non-Null Count  Dtype \n",
            "---  ------     --------------  ----- \n",
            " 0   userId     20000 non-null  int64 \n",
            " 1   movieId    20000 non-null  int64 \n",
            " 2   tag        20000 non-null  object\n",
            " 3   timestamp  20000 non-null  object\n",
            "dtypes: int64(2), object(2)\n",
            "memory usage: 625.1+ KB\n"
          ]
        }
      ],
      "source": [
        "# Informasi umum dataset\n",
        "print(\"\\nInformasi Detail Movies:\")\n",
        "df_movies.info()\n",
        "print(\"\\nInformasi Detail Ratings:\")\n",
        "df_ratings.info()\n",
        "print(\"\\nInformasi Detail Tags:\")\n",
        "df_tags.info()"
      ]
    },
    {
      "cell_type": "markdown",
      "source": [
        "Kode inii digunakan untuk menampilkan informasi umum tentang dataset:\n",
        "\n",
        "- df_movies.info(): Menampilkan jumlah baris dan kolom, tipe data, jumlah nilai non-null, dan penggunaan memori untuk dataset film.\n",
        "\n",
        "- df_ratings.info(): Memberikan informasi struktur dataset rating, termasuk kolom seperti userId, movieId, dan rating.\n",
        "\n",
        "- df_tags.info(): Menjelaskan struktur dataset tag, termasuk jumlah tag yang tersedia dan tipe data masing-masing kolom.\n",
        "\n",
        "Ini membantu memverifikasi apakah data lengkap, mengenali tipe data, dan memastikan dataset siap untuk analisis lebih lanjut."
      ],
      "metadata": {
        "id": "Qd2Vij536frZ"
      }
    },
    {
      "cell_type": "markdown",
      "metadata": {
        "id": "hhrXL_7REXq2"
      },
      "source": [
        "# **2. DATA UNDERSTANDING (EXPLORATORY DATA ANALYSIS - EDA)**"
      ]
    },
    {
      "cell_type": "markdown",
      "source": [
        "Kode ini menampilkan beberapa baris awal dari masing-masing dataset menggunakan head() untuk memahami struktur data. Fungsi info() memberikan informasi penting tentang dataset seperti jumlah kolom, jenis data di setiap kolom, dan jumlah nilai non-null."
      ],
      "metadata": {
        "id": "g_oSzIpH6b-S"
      }
    },
    {
      "cell_type": "markdown",
      "source": [
        "## **1. Statistik Dasar Data**"
      ],
      "metadata": {
        "id": "5SrpNgr09Dxo"
      }
    },
    {
      "cell_type": "code",
      "execution_count": 10,
      "metadata": {
        "id": "FQc80GsVEbEW",
        "colab": {
          "base_uri": "https://localhost:8080/"
        },
        "outputId": "b8f2dd44-33b8-4585-efbc-43b6f509e286"
      },
      "outputs": [
        {
          "output_type": "stream",
          "name": "stdout",
          "text": [
            "\n",
            "Jumlah pengguna unik: 806\n",
            "Jumlah film yang pernah dirating: 9183\n",
            "Total film dalam dataset movies: 20000\n",
            "Jumlah total entri rating: 120000\n"
          ]
        }
      ],
      "source": [
        "# Statistik dasar\n",
        "users_count = df_ratings['userId'].nunique()\n",
        "movies_rated_count = df_ratings['movieId'].nunique()\n",
        "movies_total_count = df_movies['movieId'].nunique()\n",
        "ratings_count = len(df_ratings)\n",
        "\n",
        "print(f\"\\nJumlah pengguna unik: {users_count}\")\n",
        "print(f\"Jumlah film yang pernah dirating: {movies_rated_count}\")\n",
        "print(f\"Total film dalam dataset movies: {movies_total_count}\")\n",
        "print(f\"Jumlah total entri rating: {ratings_count}\")\n"
      ]
    },
    {
      "cell_type": "markdown",
      "source": [
        "Bagian ini menghitung jumlah pengguna unik, jumlah film yang dirating, total film yang ada di dataset, dan total entri rating menggunakan fungsi nunique() dan len(). Statistik ini membantu memahami skala dataset.\n",
        "\n",
        "  - Jumlah pengguna unik dalam data rating: 806 pengguna.\n",
        "  - Jumlah film yang pernah dirating dalam data rating: 9183 film.\n",
        "  - Total film dalam dataset movies: 20000 film.\n",
        "  - Jumlah total entri rating: 120000 entri."
      ],
      "metadata": {
        "id": "t2z2ozbn62YY"
      }
    },
    {
      "cell_type": "markdown",
      "source": [
        "## **2. Visualisasi: Distribusi Rating Pengguna**"
      ],
      "metadata": {
        "id": "hMdGH3J-9PHa"
      }
    },
    {
      "cell_type": "code",
      "execution_count": 11,
      "metadata": {
        "id": "zUiTdws6FcYn",
        "colab": {
          "base_uri": "https://localhost:8080/",
          "height": 625
        },
        "outputId": "d383ca15-a091-4d49-bd84-839d18966f31"
      },
      "outputs": [
        {
          "output_type": "stream",
          "name": "stdout",
          "text": [
            "\n",
            "Membuat visualisasi distribusi rating...\n"
          ]
        },
        {
          "output_type": "stream",
          "name": "stderr",
          "text": [
            "<ipython-input-11-b4636d8d8641>:4: FutureWarning: \n",
            "\n",
            "Passing `palette` without assigning `hue` is deprecated and will be removed in v0.14.0. Assign the `x` variable to `hue` and set `legend=False` for the same effect.\n",
            "\n",
            "  sns.countplot(x='rating', data=df_ratings, palette='crest_r') # Variasi palet warna\n"
          ]
        },
        {
          "output_type": "display_data",
          "data": {
            "text/plain": [
              "<Figure size 900x500 with 1 Axes>"
            ],
            "image/png": "[encoded data removed]"
          },
          "metadata": {}
        }
      ],
      "source": [
        "# Visualisasi: Distribusi Rating Pengguna\n",
        "print(\"\\nMembuat visualisasi distribusi rating...\")\n",
        "plt.figure(figsize=(9, 5))\n",
        "sns.countplot(x='rating', data=df_ratings, palette='crest_r') # Variasi palet warna\n",
        "plt.title('Distribusi Pemberian Rating oleh Pengguna', fontsize=15)\n",
        "plt.xlabel('Nilai Rating', fontsize=12)\n",
        "plt.ylabel('Frekuensi', fontsize=12)\n",
        "plt.grid(axis='y', linestyle='--', alpha=0.7)\n",
        "plt.show()"
      ]
    },
    {
      "cell_type": "markdown",
      "source": [
        "Visualisasi ini menggunakan seaborn untuk membuat diagram batang yang menggambarkan distribusi nilai rating dalam dataset. Parameter palette memberikan warna yang menarik, dan grid() menambahkan garis bantu untuk membaca grafik dengan lebih mudah.\n",
        "\n",
        "  - Visualisasi menggunakan `countplot` menunjukkan bahwa rating **5.0** adalah yang paling sering diberikan, diikuti oleh **4.5**,**4.0** **3.0** dan **3.5**. Rating rendah seperti **0.5** atau **1.5** lebih jarang diberikan. Ini mengindikasikan kecenderungan pengguna untuk memberikan rating yang positif atau netral.\n",
        "  - *Insight*: Distribusi rating ini penting untuk model Collaborative Filtering, karena model akan belajar dari pola rating ini."
      ],
      "metadata": {
        "id": "JvnbU9WI_5xf"
      }
    },
    {
      "cell_type": "markdown",
      "source": [
        "## **3. Visualisasi**: Jumlah Film per Genre"
      ],
      "metadata": {
        "id": "GHMRJZ329Wtn"
      }
    },
    {
      "cell_type": "markdown",
      "source": [
        "Visualisasi ini digunakan untuk menampilkan jumlah film berdasarkan genre, membantu memahami dominasi genre tertentu dalam dataset. Prosesnya melibatkan pemisahan genre, penghitungan frekuensi, dan memplot data menggunakan diagram batang horizontal."
      ],
      "metadata": {
        "id": "OF-7qGZGAt6M"
      }
    },
    {
      "cell_type": "code",
      "execution_count": 12,
      "metadata": {
        "id": "HaSmhH07FecK",
        "colab": {
          "base_uri": "https://localhost:8080/",
          "height": 1000
        },
        "outputId": "6e0224fb-e258-449b-ee21-5f27f2fae2e3"
      },
      "outputs": [
        {
          "output_type": "stream",
          "name": "stdout",
          "text": [
            "\n",
            "Membuat visualisasi jumlah film per genre...\n"
          ]
        },
        {
          "output_type": "stream",
          "name": "stderr",
          "text": [
            "<ipython-input-12-7fa83e7d728e>:13: FutureWarning: \n",
            "\n",
            "Passing `palette` without assigning `hue` is deprecated and will be removed in v0.14.0. Assign the `y` variable to `hue` and set `legend=False` for the same effect.\n",
            "\n",
            "  sns.barplot(y=valid_genre_counts.index, x=valid_genre_counts.values, palette='magma_r') # Variasi palet\n"
          ]
        },
        {
          "output_type": "display_data",
          "data": {
            "text/plain": [
              "<Figure size 1100x900 with 1 Axes>"
            ],
            "image/png": "[encoded data removed]"
          },
          "metadata": {}
        }
      ],
      "source": [
        "# Visualisasi: Jumlah Film per Genre\n",
        "print(\"\\nMembuat visualisasi jumlah film per genre...\")\n",
        "movies_for_eda = df_movies.copy()\n",
        "# Mengatasi nilai NaN di genre dan memastikan format string\n",
        "movies_for_eda['genres'] = movies_for_eda['genres'].fillna('').astype(str)\n",
        "# Memecah genre dan menghitung frekuensinya\n",
        "all_movie_genres = movies_for_eda['genres'].str.split('|').explode()\n",
        "# Filter genre yang tidak valid seperti '(no genres listed)'\n",
        "valid_genre_counts = all_movie_genres[all_movie_genres != '(no genres listed)'].value_counts()\n",
        "\n",
        "if not valid_genre_counts.empty:\n",
        "    plt.figure(figsize=(11, 9)) # Ukuran disesuaikan\n",
        "    sns.barplot(y=valid_genre_counts.index, x=valid_genre_counts.values, palette='magma_r') # Variasi palet\n",
        "    plt.title('Distribusi Jumlah Film Berdasarkan Genre', fontsize=15)\n",
        "    plt.xlabel('Jumlah Film', fontsize=12)\n",
        "    plt.ylabel('Genre', fontsize=12)\n",
        "    plt.tight_layout() # Memastikan label tidak terpotong\n",
        "    plt.show()\n",
        "else:\n",
        "    print(\"Tidak ditemukan data genre yang valid untuk divisualisasikan.\")"
      ]
    },
    {
      "cell_type": "markdown",
      "source": [
        "  - Visualisasi menggunakan `barplot` setelah memecah dan menghitung genre menunjukkan bahwa genre **Drama** dan **Comedy** adalah yang paling dominan dalam dataset film. Genre seperti **Film-Noir** atau **IMAX** lebih jarang muncul.\n",
        "  - *Insight*: Dominasi genre tertentu dapat mempengaruhi rekomendasi berbasis konten. Model mungkin lebih cenderung merekomendasikan film dari genre populer jika tidak ada penanganan khusus."
      ],
      "metadata": {
        "id": "6LnT19XIB37s"
      }
    },
    {
      "cell_type": "markdown",
      "source": [
        "## **4. Distribution of Number of Ratings per Movie**"
      ],
      "metadata": {
        "id": "SuhSCGBJ9cs3"
      }
    },
    {
      "cell_type": "markdown",
      "source": [
        "Visualisasi ini menunjukkan berapa banyak film yang menerima sejumlah rating tertentu"
      ],
      "metadata": {
        "id": "JtY2d4t0CHvu"
      }
    },
    {
      "cell_type": "code",
      "execution_count": 13,
      "metadata": {
        "id": "9S31zx9kzwLI",
        "colab": {
          "base_uri": "https://localhost:8080/",
          "height": 777
        },
        "outputId": "6d70e50c-e37e-427c-8c0b-4c07491f6847"
      },
      "outputs": [
        {
          "output_type": "stream",
          "name": "stdout",
          "text": [
            "\\n--- Distribution of Number of Ratings per Movie ---\n"
          ]
        },
        {
          "output_type": "display_data",
          "data": {
            "text/plain": [
              "<Figure size 1000x600 with 1 Axes>"
            ],
            "image/png": "[encoded data removed]"
          },
          "metadata": {}
        },
        {
          "output_type": "stream",
          "name": "stdout",
          "text": [
            "\\nDescriptive statistics for ratings per movie:\n",
            "count    9183.000000\n",
            "mean       13.067625\n",
            "std        29.021032\n",
            "min         1.000000\n",
            "25%         1.000000\n",
            "50%         3.000000\n",
            "75%        10.000000\n",
            "max       406.000000\n",
            "Name: count, dtype: float64\n"
          ]
        }
      ],
      "source": [
        "print(\"\\\\n--- Distribution of Number of Ratings per Movie ---\")\n",
        "movie_rating_counts = df_ratings['movieId'].value_counts()\n",
        "\n",
        "plt.figure(figsize=(10, 6))\n",
        "sns.histplot(movie_rating_counts, bins=50, kde=False, color='skyblue')\n",
        "plt.title('Distribution of Number of Ratings per Movie', fontsize=15)\n",
        "plt.xlabel('Number of Ratings Received', fontsize=12)\n",
        "plt.ylabel('Number of Movies', fontsize=12)\n",
        "plt.grid(axis='y', linestyle='--', alpha=0.7)\n",
        "plt.show()\n",
        "\n",
        "print(\"\\\\nDescriptive statistics for ratings per movie:\")\n",
        "print(movie_rating_counts.describe())"
      ]
    },
    {
      "cell_type": "markdown",
      "source": [
        "## **5. Distribution of Number of Ratings Given by Users**"
      ],
      "metadata": {
        "id": "szItb2LY9hjw"
      }
    },
    {
      "cell_type": "code",
      "execution_count": 14,
      "metadata": {
        "id": "Du3Xx_ghzws6",
        "colab": {
          "base_uri": "https://localhost:8080/",
          "height": 777
        },
        "outputId": "c610546c-398c-459a-a658-06953f6b6cac"
      },
      "outputs": [
        {
          "output_type": "stream",
          "name": "stdout",
          "text": [
            "\\n--- Distribution of Number of Ratings Given by Users ---\n"
          ]
        },
        {
          "output_type": "display_data",
          "data": {
            "text/plain": [
              "<Figure size 1000x600 with 1 Axes>"
            ],
            "image/png": "[encoded data removed]"
          },
          "metadata": {}
        },
        {
          "output_type": "stream",
          "name": "stdout",
          "text": [
            "\\nDescriptive statistics for ratings per user:\n",
            "count     806.000000\n",
            "mean      148.883375\n",
            "std       233.707863\n",
            "min        19.000000\n",
            "25%        35.000000\n",
            "50%        70.000000\n",
            "75%       161.000000\n",
            "max      2212.000000\n",
            "Name: count, dtype: float64\n"
          ]
        }
      ],
      "source": [
        "print(\"\\\\n--- Distribution of Number of Ratings Given by Users ---\")\n",
        "user_activity_counts = df_ratings['userId'].value_counts()\n",
        "\n",
        "plt.figure(figsize=(10, 6))\n",
        "sns.histplot(user_activity_counts, bins=50, kde=False, color='salmon')\n",
        "plt.title('Distribution of Number of Ratings Given by Users', fontsize=15)\n",
        "plt.xlabel('Number of Ratings Given', fontsize=12)\n",
        "plt.ylabel('Number of Users', fontsize=12)\n",
        "plt.grid(axis='y', linestyle='--', alpha=0.7)\n",
        "plt.show()\n",
        "\n",
        "print(\"\\\\nDescriptive statistics for ratings per user:\")\n",
        "print(user_activity_counts.describe())"
      ]
    },
    {
      "cell_type": "markdown",
      "source": [
        "- Visualisasi menggunakan `histplot` juga menunjukkan distribusi *long-tail*, di mana sebagian besar pengguna memberikan sejumlah kecil rating, sementara beberapa pengguna sangat aktif.\n",
        "    - Rata-rata pengguna memberikan sekitar 148 rating, namun standar deviasinya juga tinggi.\n",
        "    - *Insight*: Pengguna yang sangat aktif memberikan lebih banyak informasi untuk model Collaborative Filtering, tetapi sistem juga harus mampu menangani pengguna dengan sedikit riwayat."
      ],
      "metadata": {
        "id": "zLpKRWoNCE9B"
      }
    },
    {
      "cell_type": "markdown",
      "source": [
        "## **6. Distribution of Movie Release Year**s"
      ],
      "metadata": {
        "id": "8aNk2nQY9mo8"
      }
    },
    {
      "cell_type": "code",
      "execution_count": 15,
      "metadata": {
        "id": "rmbwK7wfz112",
        "colab": {
          "base_uri": "https://localhost:8080/",
          "height": 854
        },
        "outputId": "3b28e6cc-3853-433e-e90a-50d58d279b29"
      },
      "outputs": [
        {
          "output_type": "stream",
          "name": "stdout",
          "text": [
            "\\n--- Distribution of Movie Release Years ---\n"
          ]
        },
        {
          "output_type": "display_data",
          "data": {
            "text/plain": [
              "<Figure size 1200x700 with 1 Axes>"
            ],
            "image/png": "[encoded data removed]"
          },
          "metadata": {}
        },
        {
          "output_type": "stream",
          "name": "stdout",
          "text": [
            "\\nDescriptive statistics for movie release years:\n",
            "count    19989.000000\n",
            "mean      1987.485167\n",
            "std         22.511688\n",
            "min       1901.000000\n",
            "25%       1975.000000\n",
            "50%       1996.000000\n",
            "75%       2005.000000\n",
            "max       2013.000000\n",
            "Name: year, dtype: float64\n"
          ]
        }
      ],
      "source": [
        "print(\"\\\\n--- Distribution of Movie Release Years ---\")\n",
        "# Attempt to extract year from title\n",
        "movies_for_eda_years = df_movies.copy()\n",
        "movies_for_eda_years['year_extract'] = movies_for_eda_years['title'].str.extract(r'\\((\\d{4})\\)', expand=False)\n",
        "\n",
        "# Convert extracted year to numeric, coercing errors to NaN\n",
        "movies_for_eda_years['year'] = pd.to_numeric(movies_for_eda_years['year_extract'], errors='coerce')\n",
        "\n",
        "# Filter out NaNs and potentially unrealistic years (e.g., before 1900 or future years if any)\n",
        "valid_years = movies_for_eda_years.dropna(subset=['year'])\n",
        "valid_years = valid_years[(valid_years['year'] >= 1900) & (valid_years['year'] <= pd.to_datetime('today').year)]\n",
        "\n",
        "if not valid_years.empty:\n",
        "    plt.figure(figsize=(12, 7))\n",
        "    sns.histplot(data=valid_years, x='year', bins=50, kde=True, color='lightgreen')\n",
        "    plt.title('Distribution of Movie Release Years', fontsize=15)\n",
        "    plt.xlabel('Release Year', fontsize=12)\n",
        "    plt.ylabel('Number of Movies', fontsize=12)\n",
        "    plt.grid(axis='y', linestyle='--', alpha=0.7)\n",
        "    plt.show()\n",
        "\n",
        "    print(\"\\\\nDescriptive statistics for movie release years:\")\n",
        "    print(valid_years['year'].describe())\n",
        "else:\n",
        "    print(\"Could not extract enough valid years to plot a distribution.\")"
      ]
    },
    {
      "cell_type": "markdown",
      "source": [
        "- Tahun rilis diekstrak dari judul film. Visualisasi `histplot` menunjukkan peningkatan jumlah film yang dirilis dari tahun ke tahun, dengan puncak di sekitar akhir 1990-an hingga awal 2000-an dalam subset data yang dimuat.\n",
        "    - *Insight*: Informasi tahun rilis dapat digunakan sebagai fitur tambahan atau untuk menganalisis tren."
      ],
      "metadata": {
        "id": "YjTYOYLBCH4O"
      }
    },
    {
      "cell_type": "markdown",
      "source": [
        "## **7. Temporal Distribution of Ratings**"
      ],
      "metadata": {
        "id": "2n3Z0rR29rcw"
      }
    },
    {
      "cell_type": "markdown",
      "source": [
        "Visualisasi ini menunjukkan jumlah film yang dirilis berdasarkan tahun"
      ],
      "metadata": {
        "id": "nMgikKdtCNUG"
      }
    },
    {
      "cell_type": "code",
      "execution_count": 16,
      "metadata": {
        "id": "fvuaBIwiz4EO",
        "colab": {
          "base_uri": "https://localhost:8080/",
          "height": 1000
        },
        "outputId": "5fc1348e-6549-428f-e458-b598fb63f70d"
      },
      "outputs": [
        {
          "output_type": "stream",
          "name": "stdout",
          "text": [
            "\\n--- Temporal Distribution of Ratings ---\n"
          ]
        },
        {
          "output_type": "stream",
          "name": "stderr",
          "text": [
            "<ipython-input-16-c926f41cc426>:11: FutureWarning: \n",
            "\n",
            "Passing `palette` without assigning `hue` is deprecated and will be removed in v0.14.0. Assign the `x` variable to `hue` and set `legend=False` for the same effect.\n",
            "\n",
            "  sns.countplot(x='rating_year', data=ratings_for_eda_time, palette='viridis')\n"
          ]
        },
        {
          "output_type": "display_data",
          "data": {
            "text/plain": [
              "<Figure size 1200x600 with 1 Axes>"
            ],
            "image/png": "[encoded data removed]"
          },
          "metadata": {}
        },
        {
          "output_type": "stream",
          "name": "stdout",
          "text": [
            "\\nRating counts per year:\n",
            "rating_year\n",
            "1996     9941\n",
            "1997     3811\n",
            "1998     2158\n",
            "1999     8841\n",
            "2000    10596\n",
            "2001     7309\n",
            "2002     6700\n",
            "2003     5416\n",
            "2004     6205\n",
            "2005    12409\n",
            "2006     6117\n",
            "2007     9541\n",
            "2008     5626\n",
            "2009     4999\n",
            "2010     4022\n",
            "2011     4739\n",
            "2012     3668\n",
            "2013     2614\n",
            "2014     3362\n",
            "2015     1926\n",
            "Name: count, dtype: int64\n"
          ]
        }
      ],
      "source": [
        "print(\"\\\\n--- Temporal Distribution of Ratings ---\")\n",
        "ratings_for_eda_time = df_ratings.copy()\n",
        "# Convert timestamp to datetime objects\n",
        "ratings_for_eda_time['datetime'] = pd.to_datetime(ratings_for_eda_time['timestamp'])\n",
        "\n",
        "# Extract year of rating\n",
        "ratings_for_eda_time['rating_year'] = ratings_for_eda_time['datetime'].dt.year\n",
        "\n",
        "if not ratings_for_eda_time.empty:\n",
        "    plt.figure(figsize=(12, 6))\n",
        "    sns.countplot(x='rating_year', data=ratings_for_eda_time, palette='viridis')\n",
        "    plt.title('Number of Ratings Over Years', fontsize=15)\n",
        "    plt.xlabel('Year of Rating', fontsize=12)\n",
        "    plt.ylabel('Number of Ratings', fontsize=12)\n",
        "    plt.xticks(rotation=45)\n",
        "    plt.grid(axis='y', linestyle='--', alpha=0.7)\n",
        "    plt.tight_layout()\n",
        "    plt.show()\n",
        "\n",
        "    print(\"\\\\nRating counts per year:\")\n",
        "    print(ratings_for_eda_time['rating_year'].value_counts().sort_index())\n",
        "else:\n",
        "    print(\"No rating data to analyze temporally.\")\n"
      ]
    },
    {
      "cell_type": "markdown",
      "source": [
        "  - Rating dikelompokkan berdasarkan tahun pemberian rating. Visualisasi `countplot` menunjukkan fluktuasi jumlah rating yang diberikan setiap tahunnya, dengan puncak pada tahun 2005 dalam subset data yang dianalisis.\n",
        "  - *Insight*: Pola temporal ini bisa menarik untuk analisis lebih lanjut."
      ],
      "metadata": {
        "id": "5xjQRNrdCLzO"
      }
    },
    {
      "cell_type": "markdown",
      "source": [
        "EDA ini memberikan pemahaman yang baik tentang karakteristik dataset, distribusi fitur-fitur penting, dan potensi tantangan dalam membangun sistem rekomendasi."
      ],
      "metadata": {
        "id": "Hs0WB1LPCNTs"
      }
    },
    {
      "cell_type": "markdown",
      "metadata": {
        "id": "QJrbXyiEFki9"
      },
      "source": [
        "# **3. PERSIAPAN DATA (DATA PREPARATION)**\n",
        "\n"
      ]
    },
    {
      "cell_type": "markdown",
      "metadata": {
        "id": "cr1wjPASFxTI"
      },
      "source": [
        "Tahapan ini melibatkan pembersihan data, pemrosesan fitur, dan penyiapan dataset untuk model rekomendasi."
      ]
    },
    {
      "cell_type": "code",
      "execution_count": 17,
      "metadata": {
        "id": "OEGPsn3Cb4Kh"
      },
      "outputs": [],
      "source": [
        "# Menggunakan df_ratings, df_movies_original, df_tags_original untuk persiapan\n",
        "df_ratings_prep = df_ratings.copy()\n",
        "df_movies_prep = df_movies.copy()\n",
        "df_tags_prep = df_tags.copy()"
      ]
    },
    {
      "cell_type": "markdown",
      "metadata": {
        "id": "PnKPuRtFFs83"
      },
      "source": [
        "## A. Pembersihan Data Awal"
      ]
    },
    {
      "cell_type": "markdown",
      "metadata": {
        "id": "9eIaHBy4eFkJ"
      },
      "source": [
        "Menghapus nilai yang hilang dan duplikasi dari DataFrame utama."
      ]
    },
    {
      "cell_type": "code",
      "source": [
        "#  kodek memeriksa nilai yang hilang (sebelum pembersihan)\n",
        "print(\"Nilai yang hilang di df_ratings_prep:\")\n",
        "print(df_ratings_prep.isnull().sum())\n",
        "print(\"\\\\nNilai yang hilang di df_movies_prep:\")\n",
        "print(df_movies_prep.isnull().sum())\n",
        "print(\"\\\\nNilai yang hilang di df_tags_prep:\")\n",
        "print(df_tags_prep.isnull().sum())"
      ],
      "metadata": {
        "colab": {
          "base_uri": "https://localhost:8080/"
        },
        "id": "Bjm-za4vkAyF",
        "outputId": "2e36e071-9128-4989-bba4-f634fc718d19"
      },
      "execution_count": 18,
      "outputs": [
        {
          "output_type": "stream",
          "name": "stdout",
          "text": [
            "Nilai yang hilang di df_ratings_prep:\n",
            "userId       0\n",
            "movieId      0\n",
            "rating       0\n",
            "timestamp    0\n",
            "dtype: int64\n",
            "\\nNilai yang hilang di df_movies_prep:\n",
            "movieId    0\n",
            "title      0\n",
            "genres     0\n",
            "dtype: int64\n",
            "\\nNilai yang hilang di df_tags_prep:\n",
            "userId       0\n",
            "movieId      0\n",
            "tag          0\n",
            "timestamp    0\n",
            "dtype: int64\n"
          ]
        }
      ]
    },
    {
      "cell_type": "code",
      "source": [
        "# Potongan kode dari notebook untuk memeriksa duplikasi (sebelum pembersihan)\n",
        "print(\"\\\\nJumlah baris duplikat di df_ratings_prep:\")\n",
        "print(df_ratings_prep.duplicated().sum())\n",
        "print(\"\\\\nJumlah movieId duplikat di df_movies_prep:\")\n",
        "print(df_movies_prep.duplicated(subset=['movieId']).sum())"
      ],
      "metadata": {
        "colab": {
          "base_uri": "https://localhost:8080/"
        },
        "id": "osDNdVLpkLm5",
        "outputId": "fc58f022-1266-4834-dfc6-67903f721daa"
      },
      "execution_count": 19,
      "outputs": [
        {
          "output_type": "stream",
          "name": "stdout",
          "text": [
            "\\nJumlah baris duplikat di df_ratings_prep:\n",
            "0\n",
            "\\nJumlah movieId duplikat di df_movies_prep:\n",
            "0\n"
          ]
        }
      ]
    },
    {
      "cell_type": "code",
      "execution_count": 20,
      "metadata": {
        "id": "VL4dzF3oFnSB",
        "colab": {
          "base_uri": "https://localhost:8080/"
        },
        "outputId": "3ed001bc-ee6a-4388-87cb-93e35d789cad"
      },
      "outputs": [
        {
          "output_type": "stream",
          "name": "stdout",
          "text": [
            "Melakukan pembersihan data awal (ratings, movies)...\n"
          ]
        }
      ],
      "source": [
        "print(\"Melakukan pembersihan data awal (ratings, movies)...\")\n",
        "df_ratings_prep.dropna(inplace=True)\n",
        "df_movies_prep.dropna(subset=['title', 'genres'], inplace=True)\n",
        "df_ratings_prep.drop_duplicates(inplace=True)\n",
        "df_movies_prep.drop_duplicates(subset=['movieId'], keep='first', inplace=True)"
      ]
    },
    {
      "cell_type": "markdown",
      "source": [
        "Fungsi:\n",
        "1. Menghapus nilai yang hilang:\n",
        "\n",
        "  - Nilai hilang dalam data dapat mengurangi kualitas model.\n",
        "\n",
        "  - dropna() digunakan untuk menghapus data yang memiliki nilai NaN.\n",
        "\n",
        "2. Menghapus duplikasi:\n",
        "\n",
        "  - Data duplikat tidak memberikan informasi tambahan sehingga dihapus untuk menghindari bias.\n",
        "\n",
        "  - drop_duplicates() digunakan untuk menghapus data ganda.\n",
        "\n",
        "Konteks DataFrame:\n",
        "  - df_ratings_prep: Data rating yang sudah bersih.\n",
        "\n",
        "  - df_movies_prep: Data film tanpa nilai kosong di kolom title dan genres.\n",
        "\n",
        "  - df_tags_prep: Data tag dengan penanganan untuk nilai kosong.\n",
        "\n",
        "Pentingnya:\n",
        "- Nilai kosong atau duplikat dapat mengganggu analisis dan menurunkan performa model. Dengan membersihkan data, kita memastikan kualitas dataset."
      ],
      "metadata": {
        "id": "uDL-nPd2DDoV"
      }
    },
    {
      "cell_type": "markdown",
      "metadata": {
        "id": "1CGfn7gcF5Y2"
      },
      "source": [
        "## B. Pemrosesan Data Tags"
      ]
    },
    {
      "cell_type": "markdown",
      "source": [
        "Bagian ini digunakan untuk menggabungkan tag unik dari setiap film\n",
        "\n"
      ],
      "metadata": {
        "id": "F1z58vzcF4RW"
      }
    },
    {
      "cell_type": "code",
      "execution_count": 21,
      "metadata": {
        "id": "DKNIEMc-FeZz",
        "colab": {
          "base_uri": "https://localhost:8080/"
        },
        "outputId": "dfe2c696-6853-4843-c9fc-0f811a390795"
      },
      "outputs": [
        {
          "output_type": "stream",
          "name": "stdout",
          "text": [
            "Memproses data tags...\n"
          ]
        }
      ],
      "source": [
        "print(\"Memproses data tags...\")\n",
        "df_tags_prep['tag'] = df_tags_prep['tag'].fillna('').astype(str).str.lower()\n",
        "aggregated_tags = df_tags_prep[df_tags_prep['tag'] != ''].groupby('movieId')['tag'].apply(\n",
        "    lambda tags_list: ' '.join(sorted(list(set(tags_list))))\n",
        ").reset_index()\n",
        "aggregated_tags.rename(columns={'tag': 'movie_tags'}, inplace=True)"
      ]
    },
    {
      "cell_type": "markdown",
      "source": [
        "Kode ini menggabungkan semua tag unik dari setiap film menjadi satu string dalam kolom movie_tags:\n",
        "\n",
        "- Membersihkan data tag: Mengisi nilai kosong dan mengubah teks menjadi huruf kecil.\n",
        "\n",
        "- Menggabungkan tag: Menghapus duplikat, mengurutkan, dan menyatukan tag per movieId menggunakan spasi.\n",
        "\n",
        "- Hasil akhir: Kolom movie_tags memperkaya informasi film untuk digunakan dalam Content-Based Filtering.\n",
        "\n",
        "Fungsi:\n",
        "\n",
        "- Menggabungkan semua tag unik dari setiap movieId menjadi satu string.\n",
        "\n",
        "Kegunaan:\n",
        "\n",
        "- Tag memberikan deskripsi tambahan untuk film, memperkaya informasi yang digunakan dalam Content-Based Filtering."
      ],
      "metadata": {
        "id": "3P5HhHCJFVtd"
      }
    },
    {
      "cell_type": "markdown",
      "metadata": {
        "id": "gF-Am4toF8Oc"
      },
      "source": [
        "## C. Persiapan Data untuk Content-Based Filtering"
      ]
    },
    {
      "cell_type": "markdown",
      "source": [
        "Bagian ini digunakan untuk membuat kolom gabungan dari fitur fitur dari dataset"
      ],
      "metadata": {
        "id": "RC4EFGSPGFt8"
      }
    },
    {
      "cell_type": "code",
      "execution_count": 22,
      "metadata": {
        "id": "L2DsLcxBFeXg",
        "colab": {
          "base_uri": "https://localhost:8080/"
        },
        "outputId": "a2dd0a91-f892-452e-c68c-d3f0e974a48e"
      },
      "outputs": [
        {
          "output_type": "stream",
          "name": "stdout",
          "text": [
            "\n",
            "Mempersiapkan data spesifik untuk Content-Based Filtering...\n",
            "DataFrame untuk Content-Based ('movies_content_base') siap dengan 20000 film unik.\n"
          ]
        }
      ],
      "source": [
        "print(\"\\nMempersiapkan data spesifik untuk Content-Based Filtering...\")\n",
        "movies_for_cb = pd.merge(df_movies, aggregated_tags, on='movieId', how='left')\n",
        "movies_for_cb['movie_tags'] = movies_for_cb['movie_tags'].fillna('')\n",
        "\n",
        "# Membuat fitur 'konten_gabungan' (soup) dari genre dan tags\n",
        "movies_for_cb['konten_gabungan'] = (\n",
        "    movies_for_cb['genres'].fillna('').astype(str).str.replace('|', ' ', regex=False) +\n",
        "    ' ' +\n",
        "    movies_for_cb['movie_tags']\n",
        ")\n",
        "movies_for_cb['konten_gabungan'] = movies_for_cb['konten_gabungan'].str.strip().str.replace(r'\\s+', ' ', regex=True)\n",
        "\n",
        "# DataFrame final untuk Content-Based, gunakan movieId sebagai index\n",
        "movies_content_base = movies_for_cb[['movieId', 'title', 'genres', 'konten_gabungan']].copy()\n",
        "movies_content_base = movies_content_base.drop_duplicates(subset='movieId').set_index('movieId')\n",
        "print(f\"DataFrame untuk Content-Based ('movies_content_base') siap dengan {len(movies_content_base)} film unik.\")"
      ]
    },
    {
      "cell_type": "markdown",
      "source": [
        "Code ini untuk :\n",
        "- Menggabungkan data genre dan tag film menjadi satu kolom baru bernama konten_gabungan.\n",
        "\n",
        "- Membersihkan teks: Menghapus nilai kosong, mengganti pemisah | dengan spasi, dan menghilangkan spasi berlebih.\n",
        "\n",
        "- Menyusun DataFrame final: Memilih kolom penting (movieId, title, genres, konten_gabungan) dan memastikan data unik berdasarkan movieId.\n",
        "\n",
        "Fungsi:\n",
        "\n",
        "- Menggabungkan genre dan tag dalam satu kolom (konten_gabungan).\n",
        "\n",
        "Kegunaan:\n",
        "\n",
        "- konten_gabungan adalah inti dari Content-Based Filtering, karena menjadi sumber fitur utama untuk analisis teks."
      ],
      "metadata": {
        "id": "zEq4vumCFbdw"
      }
    },
    {
      "cell_type": "markdown",
      "metadata": {
        "id": "gdIIGO62GOVt"
      },
      "source": [
        "## D. TF-IDF Vectorization untuk Content-Based"
      ]
    },
    {
      "cell_type": "markdown",
      "source": [
        "TF-IDF memastikan fitur yang lebih informatif mendominasi representasi konten, mendukung pengukuran kesamaan antar film secara efektif dengan mengurangi noise dan mengelola dimensi fitur."
      ],
      "metadata": {
        "id": "V0XmRoJWGSB2"
      }
    },
    {
      "cell_type": "code",
      "execution_count": 23,
      "metadata": {
        "id": "uWgCIWa8GQ8N",
        "colab": {
          "base_uri": "https://localhost:8080/"
        },
        "outputId": "8f188a8e-b9a1-42e5-b3c1-c7d550b14a6a"
      },
      "outputs": [
        {
          "output_type": "stream",
          "name": "stdout",
          "text": [
            "\n",
            "Menerapkan TF-IDF Vectorization pada 'konten_gabungan'...\n",
            "Dimensi Matriks Fitur TF-IDF (Content-Based): (20000, 3754)\n"
          ]
        }
      ],
      "source": [
        "print(\"\\nMenerapkan TF-IDF Vectorization pada 'konten_gabungan'...\")\n",
        "tfidf_processor = TfidfVectorizer(stop_words='english', min_df=3, max_df=0.8, ngram_range=(1,2)) # Penyesuaian parameter\n",
        "tfidf_features_cb = tfidf_processor.fit_transform(movies_content_base['konten_gabungan'])\n",
        "print(f\"Dimensi Matriks Fitur TF-IDF (Content-Based): {tfidf_features_cb.shape}\")"
      ]
    },
    {
      "cell_type": "markdown",
      "source": [
        "Mengubah teks dari kolom konten_gabungan menjadi representasi numerik menggunakan TF-IDF.\n",
        "\n",
        "Parameter:\n",
        "\n",
        "- stop_words='english': Menghapus kata umum (stop words) berbahasa Inggris.\n",
        "\n",
        "- min_df=3: Hanya mempertimbangkan kata yang muncul di setidaknya 3 dokumen.\n",
        "\n",
        "- max_df=0.8: Mengabaikan kata yang terlalu sering muncul (>80% dokumen).\n",
        "\n",
        "ngram_range=(1,2): Menggunakan unigram dan bigram.\n",
        "\n",
        "Output:\n",
        "\n",
        "- Matriks TF-IDF (tfidf_features_cb) berisi representasi numerik fitur teks dari setiap film.\n",
        "\n",
        "Fungsi:\n",
        "\n",
        "- Mengubah teks dari konten_gabungan menjadi representasi numerik menggunakan TF-IDF.\n",
        "\n",
        "Kegunaan:\n",
        "\n",
        "- TF-IDF mengukur relevansi kata dalam dokumen, memungkinkan model mengenali pola unik dalam deskripsi film."
      ],
      "metadata": {
        "id": "GvlBTXQ9FfuN"
      }
    },
    {
      "cell_type": "markdown",
      "metadata": {
        "id": "ogqB9mmKGTTU"
      },
      "source": [
        "## E. Persiapan Data untuk Collaborative Filtering"
      ]
    },
    {
      "cell_type": "markdown",
      "source": [
        "### **1. Persiapan Data untuk SVD**"
      ],
      "metadata": {
        "id": "9Wo-Yz5lN3Gs"
      }
    },
    {
      "cell_type": "markdown",
      "source": [
        "Persiapan data untuk Collaborative Filtering dengan SVD menggunakan scikit-surprise mencakup langkah-langkah penyaringan pengguna dan film untuk mengurangi sparsitas data, memastikan kesesuaian format, serta membagi data menjadi set pelatihan dan pengujian guna membangun dan mengevaluasi model secara efektif"
      ],
      "metadata": {
        "id": "m85fTaIPIt2u"
      }
    },
    {
      "cell_type": "code",
      "execution_count": 24,
      "metadata": {
        "id": "j7RiRPiwW_Oz",
        "colab": {
          "base_uri": "https://localhost:8080/"
        },
        "outputId": "d89f5f14-1ef9-456c-a86d-1de5684c84b2"
      },
      "outputs": [
        {
          "output_type": "stream",
          "name": "stdout",
          "text": [
            "\n",
            "Mempersiapkan data untuk Collaborative Filtering (SVD - scikit-surprise)...\n",
            "Data untuk SVD: 95390 training ratings, 23848 test ratings.\n"
          ]
        }
      ],
      "source": [
        "print(\"\\nMempersiapkan data untuk Collaborative Filtering (SVD - scikit-surprise)...\")\n",
        "min_ratings_per_user = 3\n",
        "user_rating_counts = df_ratings['userId'].value_counts()\n",
        "active_users = user_rating_counts[user_rating_counts >= min_ratings_per_user].index\n",
        "\n",
        "df_ratings_cf_surprise = df_ratings[\n",
        "    (df_ratings['movieId'].isin(movies_content_base.index)) &\n",
        "    (df_ratings['userId'].isin(active_users))\n",
        "].copy()\n",
        "\n",
        "if not df_ratings_cf_surprise.empty:\n",
        "    min_rating_val = df_ratings_cf_surprise['rating'].min()\n",
        "    max_rating_val = df_ratings_cf_surprise['rating'].max()\n",
        "    reader_surprise = Reader(rating_scale=(min_rating_val, max_rating_val))\n",
        "    data_surprise_format = Dataset.load_from_df(df_ratings_cf_surprise[['userId', 'movieId', 'rating']], reader_surprise)\n",
        "    #Split Data untuk SVD\n",
        "    trainset_surprise, testset_surprise = surprise_train_test_split(data_surprise_format, test_size=0.2, random_state=42)\n",
        "    print(f\"Data untuk SVD: {trainset_surprise.n_ratings} training ratings, {len(testset_surprise)} test ratings.\")\n",
        "else:\n",
        "    print(\"Tidak cukup data rating setelah filtering untuk SVD.\")\n",
        "    # Inisialisasi dummy jika tidak ada data, agar notebook tetap berjalan\n",
        "    min_rating_val, max_rating_val = 0.5, 5.0\n",
        "    trainset_surprise, testset_surprise = None, []\n"
      ]
    },
    {
      "cell_type": "markdown",
      "source": [
        "1. Filter Pengguna Aktif\n",
        "Hanya menyertakan pengguna dengan minimal 3 rating untuk memastikan data relevan bagi Collaborative Filtering.\n",
        "2. Filter Film Valid\n",
        "Hanya film yang terdapat dalam movies_content_base yang dipertahankan.\n",
        "\n",
        "3. Format Data untuk SVD\n",
        "Data disesuaikan ke format scikit-surprise dengan triplet (userId, movieId, rating) dan skala rating ditentukan dari data.\n",
        "\n",
        "4. Pembagian Data\n",
        "Dataset dibagi menjadi 80% data pelatihan dan 20% data pengujian untuk membangun dan mengevaluasi model.\n",
        "\n",
        "5. Penanganan Data Kosong\n",
        "Jika data terlalu sedikit setelah penyaringan, dilakukan inisialisasi dummy untuk menghindari error.\n",
        "\n",
        "Kegunaan\n",
        "Menyiapkan data berkualitas untuk model SVD dalam Collaborative Filtering, mengurangi sparsitas, dan memfasilitasi evaluasi kinerja model."
      ],
      "metadata": {
        "id": "nAwOoP0mIk7O"
      }
    },
    {
      "cell_type": "markdown",
      "source": [
        "### **2. Persiapan Data untuk Neural Collaborative Filtering (NCF)**"
      ],
      "metadata": {
        "id": "4EELfc_GN7Cq"
      }
    },
    {
      "cell_type": "markdown",
      "source": [
        "Persiapan data untuk NCF melibatkan penyaringan, encoding ID pengguna dan film ke integer, serta pembagian data menjadi set pelatihan dan validasi untuk memastikan kompatibilitas dengan model deep learning."
      ],
      "metadata": {
        "id": "8FkgvMQnI8Cc"
      }
    },
    {
      "cell_type": "code",
      "source": [
        "print(\"\\n--- (BARU) D.1. Persiapan Data untuk Neural Collaborative Filtering (NCF) ---\")\n",
        "# Menggunakan data rating yang sudah difilter dari persiapan SVD (df_ratings_cf_surprise)\n",
        "# atau jika belum ada, gunakan df_ratings_prep\n",
        "if 'df_ratings_cf_surprise' in locals() and not df_ratings_cf_surprise.empty:\n",
        "    df_ratings_ncf = df_ratings_cf_surprise.copy()\n",
        "    print(f\"Menggunakan df_ratings_cf_surprise untuk NCF, jumlah rating: {len(df_ratings_ncf)}\")\n",
        "else:\n",
        "    # Jika df_ratings_cf_surprise tidak ada atau kosong, fallback ke df_ratings_prep\n",
        "    # Pastikan df_ratings_prep sudah melalui proses cleaning yang memadai\n",
        "    if 'df_ratings_prep' in locals() and not df_ratings_prep.empty:\n",
        "        df_ratings_ncf = df_ratings_prep.copy()\n",
        "        print(f\"Menggunakan df_ratings_prep untuk NCF, jumlah rating: {len(df_ratings_ncf)}\")\n",
        "    else:\n",
        "        # Fallback ke df_ratings jika yang lain tidak tersedia\n",
        "        df_ratings_ncf = ratings.copy() # Gunakan ratings asli jika df_ratings_prep juga tidak ada\n",
        "        df_ratings_ncf.dropna(inplace=True) # Pastikan tidak ada NaN\n",
        "        df_ratings_ncf.drop_duplicates(inplace=True)\n",
        "        print(f\"Menggunakan df_ratings (asli yang sudah di-clean) untuk NCF, jumlah rating: {len(df_ratings_ncf)}\")"
      ],
      "metadata": {
        "colab": {
          "base_uri": "https://localhost:8080/"
        },
        "id": "vm4tDhPrONOD",
        "outputId": "5fc52cd9-c89d-4ca4-e37f-2dc0c661047e"
      },
      "execution_count": 25,
      "outputs": [
        {
          "output_type": "stream",
          "name": "stdout",
          "text": [
            "\n",
            "--- (BARU) D.1. Persiapan Data untuk Neural Collaborative Filtering (NCF) ---\n",
            "Menggunakan df_ratings_cf_surprise untuk NCF, jumlah rating: 119238\n"
          ]
        }
      ]
    },
    {
      "cell_type": "code",
      "source": [
        "# Pemetaan userId ke integer yang berurutan\n",
        "user_ids_ncf = df_ratings_ncf[\"userId\"].unique().tolist()\n",
        "user_to_user_encoded_ncf = {x: i for i, x in enumerate(user_ids_ncf)}\n",
        "user_encoded_to_user_ncf = {i: x for i, x in enumerate(user_ids_ncf)}\n",
        "df_ratings_ncf[\"user_encoded\"] = df_ratings_ncf[\"userId\"].map(user_to_user_encoded_ncf)\n",
        "num_users_ncf = len(user_to_user_encoded_ncf)\n",
        "\n",
        "# Pemetaan movieId ke integer yang berurutan\n",
        "movie_ids_ncf_unique_from_ratings = df_ratings_ncf[\"movieId\"].unique().tolist()\n",
        "\n",
        "# Pastikan semua movieId ada di movies_content_base untuk mendapatkan info film\n",
        "# Filter movie_ids_ncf agar hanya berisi movieId yang ada di movies_content_base\n",
        "# Ini penting agar kita bisa mendapatkan info film untuk rekomendasi NCF nantinya\n",
        "# Asumsi 'movies_content_base' sudah di-set index-nya dengan 'movieId'\n",
        "valid_movie_ids_for_ncf = [mid for mid in movie_ids_ncf_unique_from_ratings if mid in movies_content_base.index]\n",
        "\n",
        "movie_to_movie_encoded_ncf = {x: i for i, x in enumerate(valid_movie_ids_for_ncf)}\n",
        "movie_encoded_to_movie_ncf = {i: x for i, x in enumerate(valid_movie_ids_for_ncf)}\n",
        "\n",
        "# Filter df_ratings_ncf agar hanya menggunakan movieId yang valid\n",
        "df_ratings_ncf = df_ratings_ncf[df_ratings_ncf[\"movieId\"].isin(valid_movie_ids_for_ncf)].copy()\n",
        "df_ratings_ncf[\"movie_encoded\"] = df_ratings_ncf[\"movieId\"].map(movie_to_movie_encoded_ncf)\n",
        "num_movies_ncf = len(movie_to_movie_encoded_ncf)\n",
        "\n",
        "\n",
        "print(f\"Jumlah pengguna unik untuk NCF: {num_users_ncf}\")\n",
        "print(f\"Jumlah film unik untuk NCF (setelah filter dengan movies_content_base): {num_movies_ncf}\")"
      ],
      "metadata": {
        "colab": {
          "base_uri": "https://localhost:8080/"
        },
        "id": "xnK1PNCZOgj7",
        "outputId": "a424d393-fb20-462d-a1e9-97c4d154e14f"
      },
      "execution_count": 26,
      "outputs": [
        {
          "output_type": "stream",
          "name": "stdout",
          "text": [
            "Jumlah pengguna unik untuk NCF: 806\n",
            "Jumlah film unik untuk NCF (setelah filter dengan movies_content_base): 8908\n"
          ]
        }
      ]
    },
    {
      "cell_type": "code",
      "source": [
        "# Mengubah kolom rating menjadi float\n",
        "df_ratings_ncf[\"rating\"] = df_ratings_ncf[\"rating\"].values.astype(np.float32)\n",
        "\n",
        "# Membagi data\n",
        "# Pastikan tidak ada NaN di user_encoded atau movie_encoded setelah mapping\n",
        "df_ratings_ncf.dropna(subset=['user_encoded', 'movie_encoded'], inplace=True)\n",
        "\n",
        "X_ncf = df_ratings_ncf[[\"user_encoded\", \"movie_encoded\"]].values\n",
        "y_ncf = df_ratings_ncf[\"rating\"].values\n",
        "\n",
        "\n",
        "if len(X_ncf) > 0 and len(y_ncf) > 0 : #Hanya lakukan split jika ada data\n",
        "    X_train_ncf, X_val_ncf, y_train_ncf, y_val_ncf = sklearn_train_test_split(\n",
        "        X_ncf, y_ncf, test_size=0.1, random_state=42 # Menggunakan 10% untuk validasi TensorFlow\n",
        "    )\n",
        "    print(f\"Ukuran data training NCF: {X_train_ncf.shape[0]}\")\n",
        "    print(f\"Ukuran data validasi NCF: {X_val_ncf.shape[0]}\")\n",
        "else:\n",
        "    print(\"Tidak cukup data untuk NCF setelah filtering dan encoding. Model NCF tidak akan dilatih.\")\n",
        "    X_train_ncf, X_val_ncf, y_train_ncf, y_val_ncf = (None, None, None, None) # Set ke None"
      ],
      "metadata": {
        "colab": {
          "base_uri": "https://localhost:8080/"
        },
        "id": "FubLmZroOtRk",
        "outputId": "184a7ac0-9b47-4915-f9fc-094a10560629"
      },
      "execution_count": 27,
      "outputs": [
        {
          "output_type": "stream",
          "name": "stdout",
          "text": [
            "Ukuran data training NCF: 107314\n",
            "Ukuran data validasi NCF: 11924\n"
          ]
        }
      ]
    },
    {
      "cell_type": "markdown",
      "source": [
        "**Persiapan Data NCF**\n",
        "1. Pemilihan Dataset Awal\n",
        "Gunakan dataset yang sudah difilter (df_ratings_cf_surprise). Jika tidak ada, fallback ke dataset yang tersedia (df_ratings_prep atau df_ratings).\n",
        "\n",
        "2. Encoding ID Pengguna dan Film\n",
        "ID pengguna (userId) dan film (movieId) diubah ke integer menggunakan mapping.\n",
        "Hanya film yang valid (ada di movies_content_base) yang diproses.\n",
        "\n",
        "3. Konversi Rating ke Float\n",
        "Kolom rating diubah ke tipe float32 untuk kompatibilitas model.\n",
        "\n",
        "4. Pembagian Dataset\n",
        "Dataset dibagi menjadi 90% data pelatihan dan 10% data validasi menggunakan train_test_split.\n",
        "\n",
        "5. Output Jumlah Data\n",
        "Cetak jumlah pengguna, film unik, dan ukuran data pelatihan/validasi untuk verifikasi.\n",
        "\n",
        "Kegunaan:\n",
        "Encoding: Memastikan data sesuai dengan format TensorFlow.\n",
        "\n",
        "Pembagian Data: Memisahkan data pelatihan dan validasi untuk evaluasi kinerja model."
      ],
      "metadata": {
        "id": "X6HMBM_TJlE9"
      }
    },
    {
      "cell_type": "code",
      "execution_count": 28,
      "metadata": {
        "id": "JK6TIYRoXHnD",
        "colab": {
          "base_uri": "https://localhost:8080/"
        },
        "outputId": "247d6d60-0cb9-4d94-b9a3-578ee099aa03"
      },
      "outputs": [
        {
          "output_type": "stream",
          "name": "stdout",
          "text": [
            "--- Persiapan Data Selesai ---\n"
          ]
        }
      ],
      "source": [
        "print(\"--- Persiapan Data Selesai ---\")"
      ]
    },
    {
      "cell_type": "markdown",
      "metadata": {
        "id": "rfBk3GkWIxDb"
      },
      "source": [
        "# **4. MODELING**"
      ]
    },
    {
      "cell_type": "markdown",
      "metadata": {
        "id": "oB3DEYUeGjzj"
      },
      "source": [
        "## **A. PEMODELAN - CONTENT-BASED FILTERING**"
      ]
    },
    {
      "cell_type": "markdown",
      "metadata": {
        "id": "6jGxx4u1Gmv6"
      },
      "source": [
        "Model ini merekomendasikan item berdasarkan kemiripan atributnya dengan item yang telah disukai pengguna di masa lalu."
      ]
    },
    {
      "cell_type": "markdown",
      "metadata": {
        "id": "Fbpeff1rGpi8"
      },
      "source": [
        "### **1**. **Perhitungan Matriks Similaritas (Cosine Similarity)**"
      ]
    },
    {
      "cell_type": "markdown",
      "source": [
        "modelan Content-Based Filtering menggunakan pendekatan berbasis fitur konten film. Dalam metode ini, setiap film direpresentasikan sebagai vektor fitur berdasarkan atribut tertentu (misalnya genre, sutradara, aktor) menggunakan teknik seperti TF-IDF. Matriks similarity dihitung menggunakan *cosine similarity* untuk menemukan tingkat kemiripan antar film."
      ],
      "metadata": {
        "id": "5SBrgRg8Ml4P"
      }
    },
    {
      "cell_type": "code",
      "execution_count": 29,
      "metadata": {
        "id": "afDJ8L-kGk4o",
        "colab": {
          "base_uri": "https://localhost:8080/"
        },
        "outputId": "cd0655fa-d987-433e-a314-ff4271da3cf5"
      },
      "outputs": [
        {
          "output_type": "stream",
          "name": "stdout",
          "text": [
            "Menghitung Matriks Cosine Similarity untuk Content-Based...\n",
            "Dimensi Matriks Cosine Similarity (Content-Based): (20000, 20000)\n"
          ]
        }
      ],
      "source": [
        "print(\"Menghitung Matriks Cosine Similarity untuk Content-Based...\")\n",
        "cosine_similarity_matrix_cb = cosine_similarity(tfidf_features_cb, tfidf_features_cb)\n",
        "print(f\"Dimensi Matriks Cosine Similarity (Content-Based): {cosine_similarity_matrix_cb.shape}\")"
      ]
    },
    {
      "cell_type": "markdown",
      "metadata": {
        "id": "yRWqFqT0Gt7j"
      },
      "source": [
        "### **2**. **Pemetaan Judul Film ke Index Matriks (berdasarkan movieId)**"
      ]
    },
    {
      "cell_type": "markdown",
      "source": [
        "Judul film dipetakan ke indeks matriks dan sebaliknya untuk memudahkan pencarian serta rekomendasi film berdasarkan input pengguna.\n"
      ],
      "metadata": {
        "id": "kzwo6YGHNKYL"
      }
    },
    {
      "cell_type": "code",
      "execution_count": 30,
      "metadata": {
        "id": "qNKBokBhGyWp",
        "colab": {
          "base_uri": "https://localhost:8080/"
        },
        "outputId": "d72fb43f-7061-4e32-e7d7-c14f8df54ddc"
      },
      "outputs": [
        {
          "output_type": "stream",
          "name": "stdout",
          "text": [
            "Pemetaan judul film ke movieId dan sebaliknya untuk Content-Based telah dibuat.\n",
            "--- Pemodelan Content-Based Selesai ---\n"
          ]
        }
      ],
      "source": [
        "# movies_content_base sudah diindeks oleh movieId. Kita perlu map dari title ke movieId.\n",
        "title_to_movieid_lookup_cb = pd.Series(\n",
        "    movies_content_base.index, index=movies_content_base['title']\n",
        ").drop_duplicates()\n",
        "movieid_to_title_lookup_cb = pd.Series(\n",
        "    movies_content_base['title'], index=movies_content_base.index\n",
        ")\n",
        "print(\"Pemetaan judul film ke movieId dan sebaliknya untuk Content-Based telah dibuat.\")\n",
        "print(\"--- Pemodelan Content-Based Selesai ---\")"
      ]
    },
    {
      "cell_type": "markdown",
      "source": [
        " **Cara Kerja dan Parameter Content-Based Filtering**\n",
        "1. **Cara Kerja:**\n",
        "   - Ekstraksi fitur dilakukan menggunakan TF-IDF.\n",
        "   - Similaritas antar film dihitung dengan *cosine similarity*.\n",
        "   - Film-film serupa direkomendasikan berdasarkan kemiripan konten.\n",
        "\n",
        "2. **Parameter:**\n",
        "   - `TF-IDF Vectorizer`: Mengubah teks menjadi representasi numerik berbobot.\n",
        "     - `max_features`: Jumlah maksimum fitur (misalnya, 5000).\n",
        "     - `stop_words`: Kata-kata umum yang diabaikan.\n",
        "   - `Cosine Similarity`: Mengukur tingkat kesamaan berbasis sudut antara vektor\n",
        "\n",
        "**Insight:**\n",
        "Content-Based Filtering sangat efektif untuk rekomendasi film baru tanpa bergantung pada data pengguna lainnya. Namun, pendekatan ini terbatas jika fitur konten tidak cukup deskriptif atau jika film yang diminati pengguna tidak memiliki kesamaan konten yang signifikan.\n"
      ],
      "metadata": {
        "id": "88-h60KMNrz9"
      }
    },
    {
      "cell_type": "markdown",
      "metadata": {
        "id": "ihf1NUrBG5cY"
      },
      "source": [
        "## **B. PEMODELAN - COLLABORATIVE FILTERING (RecommenderNet TensorFlow)**"
      ]
    },
    {
      "cell_type": "markdown",
      "metadata": {
        "id": "RTw46J6EG9ai"
      },
      "source": [
        "Pemodelan - Collaborative Filtering (RecommenderNet)"
      ]
    },
    {
      "cell_type": "markdown",
      "metadata": {
        "id": "v8_Dci8uG_Ab"
      },
      "source": [
        "### **1. Pelatihan Model Collaborative Filtering(SVD)**"
      ]
    },
    {
      "cell_type": "markdown",
      "source": [
        "Pendekatan Collaborative Filtering menggunakan Singular Value Decomposition (SVD) untuk mendekomposisi matriks rating pengguna-film menjadi representasi ruang laten."
      ],
      "metadata": {
        "id": "7eCIS39-OXmw"
      }
    },
    {
      "cell_type": "code",
      "execution_count": 31,
      "metadata": {
        "id": "VakG2wTBG5DU",
        "colab": {
          "base_uri": "https://localhost:8080/"
        },
        "outputId": "4cdf355d-6338-46ee-97f7-4c45b92ebd04"
      },
      "outputs": [
        {
          "output_type": "stream",
          "name": "stdout",
          "text": [
            "\n",
            "Memulai Pemodelan Collaborative Filtering (SVD)...\n",
            "Melatih model SVD...\n",
            "Pelatihan model SVD selesai.\n",
            "Membuat prediksi pada test set menggunakan model SVD...\n",
            "--- Pemodelan Collaborative Filtering (SVD) Selesai ---\n"
          ]
        }
      ],
      "source": [
        "print(\"\\nMemulai Pemodelan Collaborative Filtering (SVD)...\")\n",
        "svd_model = SVD(n_factors=100, n_epochs=25, lr_all=0.005, reg_all=0.04, random_state=42)\n",
        "\n",
        "if trainset_surprise:\n",
        "    print(\"Melatih model SVD...\")\n",
        "    svd_model.fit(trainset_surprise)\n",
        "    print(\"Pelatihan model SVD selesai.\")\n",
        "    print(\"Membuat prediksi pada test set menggunakan model SVD...\")\n",
        "    predictions_svd_testset = svd_model.test(testset_surprise)\n",
        "else:\n",
        "    print(\"Tidak ada trainset untuk SVD, model tidak dilatih.\")\n",
        "    predictions_svd_testset = []\n",
        "\n",
        "print(\"--- Pemodelan Collaborative Filtering (SVD) Selesai ---\")"
      ]
    },
    {
      "cell_type": "markdown",
      "source": [
        " **Cara Kerja dan Parameter Collaborative Filtering (SVD)**\n",
        "1. **Cara Kerja:**\n",
        "   - Matriks rating \\(R\\) dipecah menjadi tiga matriks (\\(P\\), \\(\\Sigma\\), \\(Q^T\\)).\n",
        "   - Prediksi rating dilakukan dengan merekonstruksi matriks \\(R\\).\n",
        "\n",
        "2. **Parameter:**\n",
        "   - `n_factors`: Dimensi ruang laten (misalnya, 100).\n",
        "   - `n_epochs`: Jumlah iterasi pelatihan (misalnya, 25).\n",
        "   - `lr_all`: *Learning rate* untuk optimasi (misalnya, 0.005).\n",
        "   - `reg_all`: Regularisasi untuk menghindari *overfitting* (misalnya, 0.04).\n",
        "**Insight:**\n",
        "SVD memberikan hasil yang baik untuk dataset dengan interaksi pengguna-film yang kaya. Namun, model ini dapat kesulitan menangani skala besar atau data yang sangat spars. Keunggulannya adalah kecepatan pelatihan untuk dataset berukuran sedang."
      ],
      "metadata": {
        "id": "egqyfWMrOcbL"
      }
    },
    {
      "cell_type": "markdown",
      "source": [
        "## **C. PEMODELAN - COLLABORATIVE FILTERING (Neural Collaborative Filtering - NCF)**"
      ],
      "metadata": {
        "id": "_JMM7QPDPQWC"
      }
    },
    {
      "cell_type": "markdown",
      "source": [
        "Pendekatan NCF menggunakan arsitektur neural network untuk menangkap interaksi linier dan non-linier antara pengguna dan film. Model ini menggabungkan dua jalur: Generalized Matrix Factorization (GMF) dan Multi-Layer Perceptron (MLP)."
      ],
      "metadata": {
        "id": "GkFXuX-DOm-e"
      }
    },
    {
      "cell_type": "code",
      "source": [
        "print(\"\\n--- (BARU) C. PEMODELAN - COLLABORATIVE FILTERING (NCF) ---\")\n",
        "if X_train_ncf is not None and num_users_ncf > 0 and num_movies_ncf > 0:\n",
        "    def RecommenderNCF(num_users, num_movies, embedding_size=50, mlp_layers_sizes=[64, 32, 16, 8]):\n",
        "        # Input layer\n",
        "        user_input = layers.Input(shape=(1,), dtype='int32', name='user_input')\n",
        "        movie_input = layers.Input(shape=(1,), dtype='int32', name='movie_input')\n",
        "\n",
        "        # Embedding layers\n",
        "        user_embedding_gmf = layers.Embedding(num_users, embedding_size,\n",
        "                                           embeddings_initializer='he_normal',\n",
        "                                           embeddings_regularizer=tf.keras.regularizers.l2(1e-6),\n",
        "                                           name='user_embedding_gmf')(user_input)\n",
        "        movie_embedding_gmf = layers.Embedding(num_movies, embedding_size,\n",
        "                                            embeddings_initializer='he_normal',\n",
        "                                            embeddings_regularizer=tf.keras.regularizers.l2(1e-6),\n",
        "                                            name='movie_embedding_gmf')(movie_input)\n",
        "\n",
        "        user_embedding_mlp = layers.Embedding(num_users, embedding_size,\n",
        "                                           embeddings_initializer='he_normal',\n",
        "                                           embeddings_regularizer=tf.keras.regularizers.l2(1e-6),\n",
        "                                           name='user_embedding_mlp')(user_input)\n",
        "        movie_embedding_mlp = layers.Embedding(num_movies, embedding_size,\n",
        "                                            embeddings_initializer='he_normal',\n",
        "                                            embeddings_regularizer=tf.keras.regularizers.l2(1e-6),\n",
        "                                            name='movie_embedding_mlp')(movie_input)\n",
        "\n",
        "        # GMF path\n",
        "        gmf_vector = layers.Multiply(name='gmf_multiply')([user_embedding_gmf, movie_embedding_gmf])\n",
        "        gmf_vector = layers.Flatten()(gmf_vector)\n",
        "\n",
        "        # MLP path\n",
        "        mlp_vector = layers.Concatenate(name='mlp_concatenate')([user_embedding_mlp, movie_embedding_mlp])\n",
        "        mlp_vector = layers.Flatten()(mlp_vector)\n",
        "\n",
        "        for layer_size in mlp_layers_sizes:\n",
        "            mlp_vector = layers.Dense(layer_size, activation='relu',\n",
        "                                    kernel_regularizer=tf.keras.regularizers.l2(1e-6))(mlp_vector)\n",
        "            mlp_vector = layers.Dropout(0.3)(mlp_vector)\n",
        "\n",
        "        # Concatenate GMF and MLP paths\n",
        "        concat_vector = layers.Concatenate(name='concat_gmf_mlp')([gmf_vector, mlp_vector])\n",
        "        output_layer = layers.Dense(1, kernel_initializer='lecun_uniform', name='output')(concat_vector)\n",
        "        model = Model(inputs=[user_input, movie_input], outputs=output_layer)\n",
        "        return model\n",
        "\n",
        "    embedding_dim_ncf = 64\n",
        "    model_ncf = RecommenderNCF(num_users_ncf, num_movies_ncf, embedding_size=embedding_dim_ncf)\n",
        "    model_ncf.compile(optimizer=Adam(learning_rate=0.001),\n",
        "                      loss=MeanSquaredError(),\n",
        "                      metrics=[RootMeanSquaredError()])\n",
        "    model_ncf.summary()\n",
        "\n",
        "    batch_size_ncf = 128\n",
        "    epochs_ncf = 15\n",
        "    print(f\"\\nMemulai pelatihan model NCF dengan {epochs_ncf} epoch dan batch size {batch_size_ncf}...\")\n",
        "    X_train_ncf_keras = [X_train_ncf[:, 0], X_train_ncf[:, 1]]\n",
        "    X_val_ncf_keras = [X_val_ncf[:, 0], X_val_ncf[:, 1]]\n",
        "\n",
        "    history_ncf = model_ncf.fit(\n",
        "        x=X_train_ncf_keras,\n",
        "        y=y_train_ncf,\n",
        "        batch_size=batch_size_ncf,\n",
        "        epochs=epochs_ncf,\n",
        "        verbose=1,\n",
        "        validation_data=(X_val_ncf_keras, y_val_ncf),\n",
        "        callbacks=[tf.keras.callbacks.EarlyStopping(monitor='val_loss', patience=3, restore_best_weights=True)]\n",
        "    )\n",
        "    print(\"Pelatihan model NCF selesai.\")\n",
        "\n",
        "    plt.figure(figsize=(10, 5))\n",
        "    plt.plot(history_ncf.history['loss'], label='Training Loss')\n",
        "    plt.plot(history_ncf.history['val_loss'], label='Validation Loss')\n",
        "    plt.title('NCF Model Loss')\n",
        "    plt.ylabel('Loss (MSE)')\n",
        "    plt.xlabel('Epoch')\n",
        "    plt.legend(loc='upper right')\n",
        "    plt.grid(True)\n",
        "    plt.show()\n",
        "else:\n",
        "    print(\"Model NCF tidak dilatih karena tidak ada data training yang valid atau jumlah pengguna/film NCF adalah nol.\")\n",
        "    model_ncf = None # Tandai model NCF tidak ada\n",
        "\n",
        "print(\"--- Pemodelan Collaborative Filtering (NCF) Selesai ---\")"
      ],
      "metadata": {
        "colab": {
          "base_uri": "https://localhost:8080/",
          "height": 1000
        },
        "id": "UfRM8Du7PYjy",
        "outputId": "84220744-81f3-4e71-e7a9-1ade5a5b6ef8"
      },
      "execution_count": 32,
      "outputs": [
        {
          "output_type": "stream",
          "name": "stdout",
          "text": [
            "\n",
            "--- (BARU) C. PEMODELAN - COLLABORATIVE FILTERING (NCF) ---\n"
          ]
        },
        {
          "output_type": "display_data",
          "data": {
            "text/plain": [
              "\u001b[1mModel: \"functional\"\u001b[0m\n"
            ],
            "text/html": [
              "<pre style=\"white-space:pre;overflow-x:auto;line-height:normal;font-family:Menlo,'DejaVu Sans Mono',consolas,'Courier New',monospace\"><span style=\"font-weight: bold\">Model: \"functional\"</span>\n",
              "</pre>\n"
            ]
          },
          "metadata": {}
        },
        {
          "output_type": "display_data",
          "data": {
            "text/plain": [
              "┏━━━━━━━━━━━━━━━━━━━━━┳━━━━━━━━━━━━━━━━━━━┳━━━━━━━━━━━━┳━━━━━━━━━━━━━━━━━━━┓\n",
              "┃\u001b[1m \u001b[0m\u001b[1mLayer (type)       \u001b[0m\u001b[1m \u001b[0m┃\u001b[1m \u001b[0m\u001b[1mOutput Shape     \u001b[0m\u001b[1m \u001b[0m┃\u001b[1m \u001b[0m\u001b[1m   Param #\u001b[0m\u001b[1m \u001b[0m┃\u001b[1m \u001b[0m\u001b[1mConnected to     \u001b[0m\u001b[1m \u001b[0m┃\n",
              "┡━━━━━━━━━━━━━━━━━━━━━╇━━━━━━━━━━━━━━━━━━━╇━━━━━━━━━━━━╇━━━━━━━━━━━━━━━━━━━┩\n",
              "│ user_input          │ (\u001b[38;5;45mNone\u001b[0m, \u001b[38;5;34m1\u001b[0m)         │          \u001b[38;5;34m0\u001b[0m │ -                 │\n",
              "│ (\u001b[38;5;33mInputLayer\u001b[0m)        │                   │            │                   │\n",
              "├─────────────────────┼───────────────────┼────────────┼───────────────────┤\n",
              "│ movie_input         │ (\u001b[38;5;45mNone\u001b[0m, \u001b[38;5;34m1\u001b[0m)         │          \u001b[38;5;34m0\u001b[0m │ -                 │\n",
              "│ (\u001b[38;5;33mInputLayer\u001b[0m)        │                   │            │                   │\n",
              "├─────────────────────┼───────────────────┼────────────┼───────────────────┤\n",
              "│ user_embedding_mlp  │ (\u001b[38;5;45mNone\u001b[0m, \u001b[38;5;34m1\u001b[0m, \u001b[38;5;34m64\u001b[0m)     │     \u001b[38;5;34m51,584\u001b[0m │ user_input[\u001b[38;5;34m0\u001b[0m][\u001b[38;5;34m0\u001b[0m]  │\n",
              "│ (\u001b[38;5;33mEmbedding\u001b[0m)         │                   │            │                   │\n",
              "├─────────────────────┼───────────────────┼────────────┼───────────────────┤\n",
              "│ movie_embedding_mlp │ (\u001b[38;5;45mNone\u001b[0m, \u001b[38;5;34m1\u001b[0m, \u001b[38;5;34m64\u001b[0m)     │    \u001b[38;5;34m570,112\u001b[0m │ movie_input[\u001b[38;5;34m0\u001b[0m][\u001b[38;5;34m0\u001b[0m] │\n",
              "│ (\u001b[38;5;33mEmbedding\u001b[0m)         │                   │            │                   │\n",
              "├─────────────────────┼───────────────────┼────────────┼───────────────────┤\n",
              "│ mlp_concatenate     │ (\u001b[38;5;45mNone\u001b[0m, \u001b[38;5;34m1\u001b[0m, \u001b[38;5;34m128\u001b[0m)    │          \u001b[38;5;34m0\u001b[0m │ user_embedding_m… │\n",
              "│ (\u001b[38;5;33mConcatenate\u001b[0m)       │                   │            │ movie_embedding_… │\n",
              "├─────────────────────┼───────────────────┼────────────┼───────────────────┤\n",
              "│ flatten_1 (\u001b[38;5;33mFlatten\u001b[0m) │ (\u001b[38;5;45mNone\u001b[0m, \u001b[38;5;34m128\u001b[0m)       │          \u001b[38;5;34m0\u001b[0m │ mlp_concatenate[\u001b[38;5;34m…\u001b[0m │\n",
              "├─────────────────────┼───────────────────┼────────────┼───────────────────┤\n",
              "│ dense (\u001b[38;5;33mDense\u001b[0m)       │ (\u001b[38;5;45mNone\u001b[0m, \u001b[38;5;34m64\u001b[0m)        │      \u001b[38;5;34m8,256\u001b[0m │ flatten_1[\u001b[38;5;34m0\u001b[0m][\u001b[38;5;34m0\u001b[0m]   │\n",
              "├─────────────────────┼───────────────────┼────────────┼───────────────────┤\n",
              "│ dropout (\u001b[38;5;33mDropout\u001b[0m)   │ (\u001b[38;5;45mNone\u001b[0m, \u001b[38;5;34m64\u001b[0m)        │          \u001b[38;5;34m0\u001b[0m │ dense[\u001b[38;5;34m0\u001b[0m][\u001b[38;5;34m0\u001b[0m]       │\n",
              "├─────────────────────┼───────────────────┼────────────┼───────────────────┤\n",
              "│ dense_1 (\u001b[38;5;33mDense\u001b[0m)     │ (\u001b[38;5;45mNone\u001b[0m, \u001b[38;5;34m32\u001b[0m)        │      \u001b[38;5;34m2,080\u001b[0m │ dropout[\u001b[38;5;34m0\u001b[0m][\u001b[38;5;34m0\u001b[0m]     │\n",
              "├─────────────────────┼───────────────────┼────────────┼───────────────────┤\n",
              "│ dropout_1 (\u001b[38;5;33mDropout\u001b[0m) │ (\u001b[38;5;45mNone\u001b[0m, \u001b[38;5;34m32\u001b[0m)        │          \u001b[38;5;34m0\u001b[0m │ dense_1[\u001b[38;5;34m0\u001b[0m][\u001b[38;5;34m0\u001b[0m]     │\n",
              "├─────────────────────┼───────────────────┼────────────┼───────────────────┤\n",
              "│ dense_2 (\u001b[38;5;33mDense\u001b[0m)     │ (\u001b[38;5;45mNone\u001b[0m, \u001b[38;5;34m16\u001b[0m)        │        \u001b[38;5;34m528\u001b[0m │ dropout_1[\u001b[38;5;34m0\u001b[0m][\u001b[38;5;34m0\u001b[0m]   │\n",
              "├─────────────────────┼───────────────────┼────────────┼───────────────────┤\n",
              "│ user_embedding_gmf  │ (\u001b[38;5;45mNone\u001b[0m, \u001b[38;5;34m1\u001b[0m, \u001b[38;5;34m64\u001b[0m)     │     \u001b[38;5;34m51,584\u001b[0m │ user_input[\u001b[38;5;34m0\u001b[0m][\u001b[38;5;34m0\u001b[0m]  │\n",
              "│ (\u001b[38;5;33mEmbedding\u001b[0m)         │                   │            │                   │\n",
              "├─────────────────────┼───────────────────┼────────────┼───────────────────┤\n",
              "│ movie_embedding_gmf │ (\u001b[38;5;45mNone\u001b[0m, \u001b[38;5;34m1\u001b[0m, \u001b[38;5;34m64\u001b[0m)     │    \u001b[38;5;34m570,112\u001b[0m │ movie_input[\u001b[38;5;34m0\u001b[0m][\u001b[38;5;34m0\u001b[0m] │\n",
              "│ (\u001b[38;5;33mEmbedding\u001b[0m)         │                   │            │                   │\n",
              "├─────────────────────┼───────────────────┼────────────┼───────────────────┤\n",
              "│ dropout_2 (\u001b[38;5;33mDropout\u001b[0m) │ (\u001b[38;5;45mNone\u001b[0m, \u001b[38;5;34m16\u001b[0m)        │          \u001b[38;5;34m0\u001b[0m │ dense_2[\u001b[38;5;34m0\u001b[0m][\u001b[38;5;34m0\u001b[0m]     │\n",
              "├─────────────────────┼───────────────────┼────────────┼───────────────────┤\n",
              "│ gmf_multiply        │ (\u001b[38;5;45mNone\u001b[0m, \u001b[38;5;34m1\u001b[0m, \u001b[38;5;34m64\u001b[0m)     │          \u001b[38;5;34m0\u001b[0m │ user_embedding_g… │\n",
              "│ (\u001b[38;5;33mMultiply\u001b[0m)          │                   │            │ movie_embedding_… │\n",
              "├─────────────────────┼───────────────────┼────────────┼───────────────────┤\n",
              "│ dense_3 (\u001b[38;5;33mDense\u001b[0m)     │ (\u001b[38;5;45mNone\u001b[0m, \u001b[38;5;34m8\u001b[0m)         │        \u001b[38;5;34m136\u001b[0m │ dropout_2[\u001b[38;5;34m0\u001b[0m][\u001b[38;5;34m0\u001b[0m]   │\n",
              "├─────────────────────┼───────────────────┼────────────┼───────────────────┤\n",
              "│ flatten (\u001b[38;5;33mFlatten\u001b[0m)   │ (\u001b[38;5;45mNone\u001b[0m, \u001b[38;5;34m64\u001b[0m)        │          \u001b[38;5;34m0\u001b[0m │ gmf_multiply[\u001b[38;5;34m0\u001b[0m][\u001b[38;5;34m…\u001b[0m │\n",
              "├─────────────────────┼───────────────────┼────────────┼───────────────────┤\n",
              "│ dropout_3 (\u001b[38;5;33mDropout\u001b[0m) │ (\u001b[38;5;45mNone\u001b[0m, \u001b[38;5;34m8\u001b[0m)         │          \u001b[38;5;34m0\u001b[0m │ dense_3[\u001b[38;5;34m0\u001b[0m][\u001b[38;5;34m0\u001b[0m]     │\n",
              "├─────────────────────┼───────────────────┼────────────┼───────────────────┤\n",
              "│ concat_gmf_mlp      │ (\u001b[38;5;45mNone\u001b[0m, \u001b[38;5;34m72\u001b[0m)        │          \u001b[38;5;34m0\u001b[0m │ flatten[\u001b[38;5;34m0\u001b[0m][\u001b[38;5;34m0\u001b[0m],    │\n",
              "│ (\u001b[38;5;33mConcatenate\u001b[0m)       │                   │            │ dropout_3[\u001b[38;5;34m0\u001b[0m][\u001b[38;5;34m0\u001b[0m]   │\n",
              "├─────────────────────┼───────────────────┼────────────┼───────────────────┤\n",
              "│ output (\u001b[38;5;33mDense\u001b[0m)      │ (\u001b[38;5;45mNone\u001b[0m, \u001b[38;5;34m1\u001b[0m)         │         \u001b[38;5;34m73\u001b[0m │ concat_gmf_mlp[\u001b[38;5;34m0\u001b[0m… │\n",
              "└─────────────────────┴───────────────────┴────────────┴───────────────────┘\n"
            ],
            "text/html": [
              "<pre style=\"white-space:pre;overflow-x:auto;line-height:normal;font-family:Menlo,'DejaVu Sans Mono',consolas,'Courier New',monospace\">┏━━━━━━━━━━━━━━━━━━━━━┳━━━━━━━━━━━━━━━━━━━┳━━━━━━━━━━━━┳━━━━━━━━━━━━━━━━━━━┓\n",
              "┃<span style=\"font-weight: bold\"> Layer (type)        </span>┃<span style=\"font-weight: bold\"> Output Shape      </span>┃<span style=\"font-weight: bold\">    Param # </span>┃<span style=\"font-weight: bold\"> Connected to      </span>┃\n",
              "┡━━━━━━━━━━━━━━━━━━━━━╇━━━━━━━━━━━━━━━━━━━╇━━━━━━━━━━━━╇━━━━━━━━━━━━━━━━━━━┩\n",
              "│ user_input          │ (<span style=\"color: #00d7ff; text-decoration-color: #00d7ff\">None</span>, <span style=\"color: #00af00; text-decoration-color: #00af00\">1</span>)         │          <span style=\"color: #00af00; text-decoration-color: #00af00\">0</span> │ -                 │\n",
              "│ (<span style=\"color: #0087ff; text-decoration-color: #0087ff\">InputLayer</span>)        │                   │            │                   │\n",
              "├─────────────────────┼───────────────────┼────────────┼───────────────────┤\n",
              "│ movie_input         │ (<span style=\"color: #00d7ff; text-decoration-color: #00d7ff\">None</span>, <span style=\"color: #00af00; text-decoration-color: #00af00\">1</span>)         │          <span style=\"color: #00af00; text-decoration-color: #00af00\">0</span> │ -                 │\n",
              "│ (<span style=\"color: #0087ff; text-decoration-color: #0087ff\">InputLayer</span>)        │                   │            │                   │\n",
              "├─────────────────────┼───────────────────┼────────────┼───────────────────┤\n",
              "│ user_embedding_mlp  │ (<span style=\"color: #00d7ff; text-decoration-color: #00d7ff\">None</span>, <span style=\"color: #00af00; text-decoration-color: #00af00\">1</span>, <span style=\"color: #00af00; text-decoration-color: #00af00\">64</span>)     │     <span style=\"color: #00af00; text-decoration-color: #00af00\">51,584</span> │ user_input[<span style=\"color: #00af00; text-decoration-color: #00af00\">0</span>][<span style=\"color: #00af00; text-decoration-color: #00af00\">0</span>]  │\n",
              "│ (<span style=\"color: #0087ff; text-decoration-color: #0087ff\">Embedding</span>)         │                   │            │                   │\n",
              "├─────────────────────┼───────────────────┼────────────┼───────────────────┤\n",
              "│ movie_embedding_mlp │ (<span style=\"color: #00d7ff; text-decoration-color: #00d7ff\">None</span>, <span style=\"color: #00af00; text-decoration-color: #00af00\">1</span>, <span style=\"color: #00af00; text-decoration-color: #00af00\">64</span>)     │    <span style=\"color: #00af00; text-decoration-color: #00af00\">570,112</span> │ movie_input[<span style=\"color: #00af00; text-decoration-color: #00af00\">0</span>][<span style=\"color: #00af00; text-decoration-color: #00af00\">0</span>] │\n",
              "│ (<span style=\"color: #0087ff; text-decoration-color: #0087ff\">Embedding</span>)         │                   │            │                   │\n",
              "├─────────────────────┼───────────────────┼────────────┼───────────────────┤\n",
              "│ mlp_concatenate     │ (<span style=\"color: #00d7ff; text-decoration-color: #00d7ff\">None</span>, <span style=\"color: #00af00; text-decoration-color: #00af00\">1</span>, <span style=\"color: #00af00; text-decoration-color: #00af00\">128</span>)    │          <span style=\"color: #00af00; text-decoration-color: #00af00\">0</span> │ user_embedding_m… │\n",
              "│ (<span style=\"color: #0087ff; text-decoration-color: #0087ff\">Concatenate</span>)       │                   │            │ movie_embedding_… │\n",
              "├─────────────────────┼───────────────────┼────────────┼───────────────────┤\n",
              "│ flatten_1 (<span style=\"color: #0087ff; text-decoration-color: #0087ff\">Flatten</span>) │ (<span style=\"color: #00d7ff; text-decoration-color: #00d7ff\">None</span>, <span style=\"color: #00af00; text-decoration-color: #00af00\">128</span>)       │          <span style=\"color: #00af00; text-decoration-color: #00af00\">0</span> │ mlp_concatenate[<span style=\"color: #00af00; text-decoration-color: #00af00\">…</span> │\n",
              "├─────────────────────┼───────────────────┼────────────┼───────────────────┤\n",
              "│ dense (<span style=\"color: #0087ff; text-decoration-color: #0087ff\">Dense</span>)       │ (<span style=\"color: #00d7ff; text-decoration-color: #00d7ff\">None</span>, <span style=\"color: #00af00; text-decoration-color: #00af00\">64</span>)        │      <span style=\"color: #00af00; text-decoration-color: #00af00\">8,256</span> │ flatten_1[<span style=\"color: #00af00; text-decoration-color: #00af00\">0</span>][<span style=\"color: #00af00; text-decoration-color: #00af00\">0</span>]   │\n",
              "├─────────────────────┼───────────────────┼────────────┼───────────────────┤\n",
              "│ dropout (<span style=\"color: #0087ff; text-decoration-color: #0087ff\">Dropout</span>)   │ (<span style=\"color: #00d7ff; text-decoration-color: #00d7ff\">None</span>, <span style=\"color: #00af00; text-decoration-color: #00af00\">64</span>)        │          <span style=\"color: #00af00; text-decoration-color: #00af00\">0</span> │ dense[<span style=\"color: #00af00; text-decoration-color: #00af00\">0</span>][<span style=\"color: #00af00; text-decoration-color: #00af00\">0</span>]       │\n",
              "├─────────────────────┼───────────────────┼────────────┼───────────────────┤\n",
              "│ dense_1 (<span style=\"color: #0087ff; text-decoration-color: #0087ff\">Dense</span>)     │ (<span style=\"color: #00d7ff; text-decoration-color: #00d7ff\">None</span>, <span style=\"color: #00af00; text-decoration-color: #00af00\">32</span>)        │      <span style=\"color: #00af00; text-decoration-color: #00af00\">2,080</span> │ dropout[<span style=\"color: #00af00; text-decoration-color: #00af00\">0</span>][<span style=\"color: #00af00; text-decoration-color: #00af00\">0</span>]     │\n",
              "├─────────────────────┼───────────────────┼────────────┼───────────────────┤\n",
              "│ dropout_1 (<span style=\"color: #0087ff; text-decoration-color: #0087ff\">Dropout</span>) │ (<span style=\"color: #00d7ff; text-decoration-color: #00d7ff\">None</span>, <span style=\"color: #00af00; text-decoration-color: #00af00\">32</span>)        │          <span style=\"color: #00af00; text-decoration-color: #00af00\">0</span> │ dense_1[<span style=\"color: #00af00; text-decoration-color: #00af00\">0</span>][<span style=\"color: #00af00; text-decoration-color: #00af00\">0</span>]     │\n",
              "├─────────────────────┼───────────────────┼────────────┼───────────────────┤\n",
              "│ dense_2 (<span style=\"color: #0087ff; text-decoration-color: #0087ff\">Dense</span>)     │ (<span style=\"color: #00d7ff; text-decoration-color: #00d7ff\">None</span>, <span style=\"color: #00af00; text-decoration-color: #00af00\">16</span>)        │        <span style=\"color: #00af00; text-decoration-color: #00af00\">528</span> │ dropout_1[<span style=\"color: #00af00; text-decoration-color: #00af00\">0</span>][<span style=\"color: #00af00; text-decoration-color: #00af00\">0</span>]   │\n",
              "├─────────────────────┼───────────────────┼────────────┼───────────────────┤\n",
              "│ user_embedding_gmf  │ (<span style=\"color: #00d7ff; text-decoration-color: #00d7ff\">None</span>, <span style=\"color: #00af00; text-decoration-color: #00af00\">1</span>, <span style=\"color: #00af00; text-decoration-color: #00af00\">64</span>)     │     <span style=\"color: #00af00; text-decoration-color: #00af00\">51,584</span> │ user_input[<span style=\"color: #00af00; text-decoration-color: #00af00\">0</span>][<span style=\"color: #00af00; text-decoration-color: #00af00\">0</span>]  │\n",
              "│ (<span style=\"color: #0087ff; text-decoration-color: #0087ff\">Embedding</span>)         │                   │            │                   │\n",
              "├─────────────────────┼───────────────────┼────────────┼───────────────────┤\n",
              "│ movie_embedding_gmf │ (<span style=\"color: #00d7ff; text-decoration-color: #00d7ff\">None</span>, <span style=\"color: #00af00; text-decoration-color: #00af00\">1</span>, <span style=\"color: #00af00; text-decoration-color: #00af00\">64</span>)     │    <span style=\"color: #00af00; text-decoration-color: #00af00\">570,112</span> │ movie_input[<span style=\"color: #00af00; text-decoration-color: #00af00\">0</span>][<span style=\"color: #00af00; text-decoration-color: #00af00\">0</span>] │\n",
              "│ (<span style=\"color: #0087ff; text-decoration-color: #0087ff\">Embedding</span>)         │                   │            │                   │\n",
              "├─────────────────────┼───────────────────┼────────────┼───────────────────┤\n",
              "│ dropout_2 (<span style=\"color: #0087ff; text-decoration-color: #0087ff\">Dropout</span>) │ (<span style=\"color: #00d7ff; text-decoration-color: #00d7ff\">None</span>, <span style=\"color: #00af00; text-decoration-color: #00af00\">16</span>)        │          <span style=\"color: #00af00; text-decoration-color: #00af00\">0</span> │ dense_2[<span style=\"color: #00af00; text-decoration-color: #00af00\">0</span>][<span style=\"color: #00af00; text-decoration-color: #00af00\">0</span>]     │\n",
              "├─────────────────────┼───────────────────┼────────────┼───────────────────┤\n",
              "│ gmf_multiply        │ (<span style=\"color: #00d7ff; text-decoration-color: #00d7ff\">None</span>, <span style=\"color: #00af00; text-decoration-color: #00af00\">1</span>, <span style=\"color: #00af00; text-decoration-color: #00af00\">64</span>)     │          <span style=\"color: #00af00; text-decoration-color: #00af00\">0</span> │ user_embedding_g… │\n",
              "│ (<span style=\"color: #0087ff; text-decoration-color: #0087ff\">Multiply</span>)          │                   │            │ movie_embedding_… │\n",
              "├─────────────────────┼───────────────────┼────────────┼───────────────────┤\n",
              "│ dense_3 (<span style=\"color: #0087ff; text-decoration-color: #0087ff\">Dense</span>)     │ (<span style=\"color: #00d7ff; text-decoration-color: #00d7ff\">None</span>, <span style=\"color: #00af00; text-decoration-color: #00af00\">8</span>)         │        <span style=\"color: #00af00; text-decoration-color: #00af00\">136</span> │ dropout_2[<span style=\"color: #00af00; text-decoration-color: #00af00\">0</span>][<span style=\"color: #00af00; text-decoration-color: #00af00\">0</span>]   │\n",
              "├─────────────────────┼───────────────────┼────────────┼───────────────────┤\n",
              "│ flatten (<span style=\"color: #0087ff; text-decoration-color: #0087ff\">Flatten</span>)   │ (<span style=\"color: #00d7ff; text-decoration-color: #00d7ff\">None</span>, <span style=\"color: #00af00; text-decoration-color: #00af00\">64</span>)        │          <span style=\"color: #00af00; text-decoration-color: #00af00\">0</span> │ gmf_multiply[<span style=\"color: #00af00; text-decoration-color: #00af00\">0</span>][<span style=\"color: #00af00; text-decoration-color: #00af00\">…</span> │\n",
              "├─────────────────────┼───────────────────┼────────────┼───────────────────┤\n",
              "│ dropout_3 (<span style=\"color: #0087ff; text-decoration-color: #0087ff\">Dropout</span>) │ (<span style=\"color: #00d7ff; text-decoration-color: #00d7ff\">None</span>, <span style=\"color: #00af00; text-decoration-color: #00af00\">8</span>)         │          <span style=\"color: #00af00; text-decoration-color: #00af00\">0</span> │ dense_3[<span style=\"color: #00af00; text-decoration-color: #00af00\">0</span>][<span style=\"color: #00af00; text-decoration-color: #00af00\">0</span>]     │\n",
              "├─────────────────────┼───────────────────┼────────────┼───────────────────┤\n",
              "│ concat_gmf_mlp      │ (<span style=\"color: #00d7ff; text-decoration-color: #00d7ff\">None</span>, <span style=\"color: #00af00; text-decoration-color: #00af00\">72</span>)        │          <span style=\"color: #00af00; text-decoration-color: #00af00\">0</span> │ flatten[<span style=\"color: #00af00; text-decoration-color: #00af00\">0</span>][<span style=\"color: #00af00; text-decoration-color: #00af00\">0</span>],    │\n",
              "│ (<span style=\"color: #0087ff; text-decoration-color: #0087ff\">Concatenate</span>)       │                   │            │ dropout_3[<span style=\"color: #00af00; text-decoration-color: #00af00\">0</span>][<span style=\"color: #00af00; text-decoration-color: #00af00\">0</span>]   │\n",
              "├─────────────────────┼───────────────────┼────────────┼───────────────────┤\n",
              "│ output (<span style=\"color: #0087ff; text-decoration-color: #0087ff\">Dense</span>)      │ (<span style=\"color: #00d7ff; text-decoration-color: #00d7ff\">None</span>, <span style=\"color: #00af00; text-decoration-color: #00af00\">1</span>)         │         <span style=\"color: #00af00; text-decoration-color: #00af00\">73</span> │ concat_gmf_mlp[<span style=\"color: #00af00; text-decoration-color: #00af00\">0</span>… │\n",
              "└─────────────────────┴───────────────────┴────────────┴───────────────────┘\n",
              "</pre>\n"
            ]
          },
          "metadata": {}
        },
        {
          "output_type": "display_data",
          "data": {
            "text/plain": [
              "\u001b[1m Total params: \u001b[0m\u001b[38;5;34m1,254,465\u001b[0m (4.79 MB)\n"
            ],
            "text/html": [
              "<pre style=\"white-space:pre;overflow-x:auto;line-height:normal;font-family:Menlo,'DejaVu Sans Mono',consolas,'Courier New',monospace\"><span style=\"font-weight: bold\"> Total params: </span><span style=\"color: #00af00; text-decoration-color: #00af00\">1,254,465</span> (4.79 MB)\n",
              "</pre>\n"
            ]
          },
          "metadata": {}
        },
        {
          "output_type": "display_data",
          "data": {
            "text/plain": [
              "\u001b[1m Trainable params: \u001b[0m\u001b[38;5;34m1,254,465\u001b[0m (4.79 MB)\n"
            ],
            "text/html": [
              "<pre style=\"white-space:pre;overflow-x:auto;line-height:normal;font-family:Menlo,'DejaVu Sans Mono',consolas,'Courier New',monospace\"><span style=\"font-weight: bold\"> Trainable params: </span><span style=\"color: #00af00; text-decoration-color: #00af00\">1,254,465</span> (4.79 MB)\n",
              "</pre>\n"
            ]
          },
          "metadata": {}
        },
        {
          "output_type": "display_data",
          "data": {
            "text/plain": [
              "\u001b[1m Non-trainable params: \u001b[0m\u001b[38;5;34m0\u001b[0m (0.00 B)\n"
            ],
            "text/html": [
              "<pre style=\"white-space:pre;overflow-x:auto;line-height:normal;font-family:Menlo,'DejaVu Sans Mono',consolas,'Courier New',monospace\"><span style=\"font-weight: bold\"> Non-trainable params: </span><span style=\"color: #00af00; text-decoration-color: #00af00\">0</span> (0.00 B)\n",
              "</pre>\n"
            ]
          },
          "metadata": {}
        },
        {
          "output_type": "stream",
          "name": "stdout",
          "text": [
            "\n",
            "Memulai pelatihan model NCF dengan 15 epoch dan batch size 128...\n",
            "Epoch 1/15\n",
            "\u001b[1m839/839\u001b[0m \u001b[32m━━━━━━━━━━━━━━━━━━━━\u001b[0m\u001b[37m\u001b[0m \u001b[1m16s\u001b[0m 15ms/step - loss: 5.5038 - root_mean_squared_error: 2.2923 - val_loss: 0.9340 - val_root_mean_squared_error: 0.9658\n",
            "Epoch 2/15\n",
            "\u001b[1m839/839\u001b[0m \u001b[32m━━━━━━━━━━━━━━━━━━━━\u001b[0m\u001b[37m\u001b[0m \u001b[1m21s\u001b[0m 16ms/step - loss: 1.5266 - root_mean_squared_error: 1.2343 - val_loss: 0.8209 - val_root_mean_squared_error: 0.9044\n",
            "Epoch 3/15\n",
            "\u001b[1m839/839\u001b[0m \u001b[32m━━━━━━━━━━━━━━━━━━━━\u001b[0m\u001b[37m\u001b[0m \u001b[1m13s\u001b[0m 15ms/step - loss: 0.9478 - root_mean_squared_error: 0.9715 - val_loss: 0.8273 - val_root_mean_squared_error: 0.9068\n",
            "Epoch 4/15\n",
            "\u001b[1m839/839\u001b[0m \u001b[32m━━━━━━━━━━━━━━━━━━━━\u001b[0m\u001b[37m\u001b[0m \u001b[1m13s\u001b[0m 16ms/step - loss: 0.5919 - root_mean_squared_error: 0.7658 - val_loss: 0.8675 - val_root_mean_squared_error: 0.9281\n",
            "Epoch 5/15\n",
            "\u001b[1m839/839\u001b[0m \u001b[32m━━━━━━━━━━━━━━━━━━━━\u001b[0m\u001b[37m\u001b[0m \u001b[1m13s\u001b[0m 16ms/step - loss: 0.3801 - root_mean_squared_error: 0.6113 - val_loss: 0.9116 - val_root_mean_squared_error: 0.9512\n",
            "Pelatihan model NCF selesai.\n"
          ]
        },
        {
          "output_type": "display_data",
          "data": {
            "text/plain": [
              "<Figure size 1000x500 with 1 Axes>"
            ],
            "image/png": "[encoded data removed]"
          },
          "metadata": {}
        },
        {
          "output_type": "stream",
          "name": "stdout",
          "text": [
            "--- Pemodelan Collaborative Filtering (NCF) Selesai ---\n"
          ]
        }
      ]
    },
    {
      "cell_type": "markdown",
      "source": [
        "**Cara Kerja dan Parameter NCF**\n",
        "1. **Cara Kerja:**\n",
        "   - *User ID* dan *Movie ID* diubah menjadi representasi embedding.\n",
        "   - Dua jalur digunakan:\n",
        "     - **GMF Path:** Menangkap interaksi linier.\n",
        "     - **MLP Path:** Menangkap interaksi non-linear melalui beberapa lapisan dense.\n",
        "   - Hasil GMF dan MLP digabungkan untuk membuat prediksi.\n",
        "\n",
        "2. **Parameter:**\n",
        "   - `embedding_size`: Ukuran vektor embedding (misalnya, 64).\n",
        "   - `mlp_layers_sizes`: Ukuran setiap lapisan dalam jalur MLP (misalnya, [64, 32, 16, 8]).\n",
        "   - `dropout`: Persentase neuron yang dimatikan untuk mencegah *overfitting* (misalnya, 0.3).\n",
        "   - `batch_size`: Jumlah sampel per batch pelatihan (misalnya, 128).\n",
        "   - `epochs`: Jumlah iterasi pelatihan (misalnya, 15).\n",
        "\n",
        "**Insight:**\n",
        "NCF menawarkan kemampuan yang luar biasa untuk menangkap hubungan kompleks antar pengguna dan film. Namun, model ini membutuhkan banyak data pelatihan dan sumber daya komputasi. Model ini sangat cocok untuk skenario dengan data pengguna yang besar dan beragam.\n",
        "\n"
      ],
      "metadata": {
        "id": "tJHf4fczOr9L"
      }
    },
    {
      "cell_type": "markdown",
      "metadata": {
        "id": "S-FOz2M9HRof"
      },
      "source": [
        "# **5. FUNGSI-FUNGSI PENDUKUNG REKOMENDASI**"
      ]
    },
    {
      "cell_type": "markdown",
      "metadata": {
        "id": "OkGURONMHTvo"
      },
      "source": [
        "Mendefinisikan Fungsi-fungsi Pendukung Rekomendasi"
      ]
    },
    {
      "cell_type": "markdown",
      "metadata": {
        "id": "Ak0urPiaHXtO"
      },
      "source": [
        "## A. Fungsi untuk Rekomendasi Content-Based"
      ]
    },
    {
      "cell_type": "code",
      "execution_count": 33,
      "metadata": {
        "id": "6vnFPDD8Gy0B"
      },
      "outputs": [],
      "source": [
        "def dapatkan_rekomendasi_content_based(judul_film_input, jumlah_rekomendasi=10,\n",
        "                                    matriks_sim=cosine_similarity_matrix_cb,\n",
        "                                    data_film_cb=movies_content_base,\n",
        "                                    lookup_judul=title_to_movieid_lookup_cb):\n",
        "    if judul_film_input not in lookup_judul:\n",
        "        return f\"Peringatan: Film '{judul_film_input}' tidak ditemukan.\"\n",
        "    id_film_input = lookup_judul[judul_film_input]\n",
        "    if isinstance(id_film_input, pd.Series): id_film_input = id_film_input.iloc[0]\n",
        "\n",
        "    if id_film_input not in data_film_cb.index: return f\"Peringatan: Movie ID '{id_film_input}' tidak valid.\"\n",
        "    try:\n",
        "        posisi_film_input = data_film_cb.index.get_loc(id_film_input)\n",
        "    except KeyError: return f\"Peringatan: Movie ID '{id_film_input}' tidak di index matriks.\"\n",
        "\n",
        "    skor_similaritas_film = list(enumerate(matriks_sim[posisi_film_input]))\n",
        "    skor_similaritas_film_sorted = sorted(skor_similaritas_film, key=lambda x: x[1], reverse=True)\n",
        "    top_n_film_indices = [tpl[0] for tpl in skor_similaritas_film_sorted[1:jumlah_rekomendasi+1]]\n",
        "\n",
        "    # Mengambil movieId dari index dan menyertakannya sebagai kolom\n",
        "    df_hasil_rekomendasi = data_film_cb.iloc[top_n_film_indices].copy().reset_index()\n",
        "    df_hasil_rekomendasi['Skor Similaritas'] = [tpl[1] for tpl in skor_similaritas_film_sorted[1:jumlah_rekomendasi+1]]\n",
        "    return df_hasil_rekomendasi[['movieId', 'title', 'genres', 'Skor Similaritas']]\n"
      ]
    },
    {
      "cell_type": "markdown",
      "source": [
        "Fungsi ini bertujuan untuk menghasilkan rekomendasi film berbasis Content-Based Filtering, menggunakan skor cosine similarity untuk menentukan tingkat kemiripan antar film berdasarkan atributnya, seperti genre, sinopsis, atau metadata lain.\n",
        "\n",
        "Fungsi menerima input berupa judul film yang ingin dijadikan referensi dan mengembalikan daftar film yang paling mirip dengan film tersebut."
      ],
      "metadata": {
        "id": "VQ4Cef8-PLv8"
      }
    },
    {
      "cell_type": "code",
      "execution_count": 34,
      "metadata": {
        "id": "X8hhtGPQpN0j"
      },
      "outputs": [],
      "source": [
        "def tampilkan_rekomendasi_cb_terformat(judul_film_input, jumlah_tampil=5):\n",
        "    print(\"-\" * 80)\n",
        "    print(f\"REKOMENDASI CONTENT-BASED untuk: '{judul_film_input}' (Top {jumlah_tampil})\")\n",
        "    print(\"-\" * 80)\n",
        "    hasil_df = dapatkan_rekomendasi_content_based(judul_film_input, jumlah_rekomendasi=jumlah_tampil)\n",
        "    if isinstance(hasil_df, str): print(hasil_df)\n",
        "    elif not hasil_df.empty:\n",
        "        tabel_hasil = hasil_df.reset_index(drop=True); tabel_hasil.index += 1\n",
        "        tabel_hasil = tabel_hasil.rename_axis('Peringkat').reset_index()\n",
        "        tabel_hasil['Skor Similaritas'] = tabel_hasil['Skor Similaritas'].map('{:,.4f}'.format)\n",
        "        print(tabel_hasil[['Peringkat', 'movieId', 'title', 'genres', 'Skor Similaritas']].to_string(index=False))\n",
        "    else: print(\"Tidak ada rekomendasi Content-Based yang dapat ditampilkan.\")\n",
        "    print(\"-\" * 80 + \"\\n\")"
      ]
    },
    {
      "cell_type": "markdown",
      "source": [
        "Fungsi dapatkan_rekomendasi_content_based merekomendasikan film menggunakan pendekatan Content-Based Filtering dengan menghitung tingkat kemiripan (cosine similarity) antara film berdasarkan konten seperti genre. Dengan memasukkan judul film, fungsi ini akan memvalidasi judul tersebut, mengambil movieId, menghitung skor kemiripan terhadap film lain dalam matriks similarity, dan mengembalikan daftar film yang paling relevan. Hasil berupa dataframe berisi informasi movieId, title, genres, dan skor kemiripan, sesuai dengan jumlah rekomendasi yang diminta."
      ],
      "metadata": {
        "id": "cPYMNI4qRUHI"
      }
    },
    {
      "cell_type": "markdown",
      "metadata": {
        "id": "F4r83nwsHhtd"
      },
      "source": [
        "## B. Fungsi untuk Rekomendasi Collaborative Filtering (RecommenderNet)"
      ]
    },
    {
      "cell_type": "code",
      "execution_count": 35,
      "metadata": {
        "id": "bgLQPuivGyxZ"
      },
      "outputs": [],
      "source": [
        "def dapatkan_rekomendasi_svd(id_pengguna_asli, jumlah_rekomendasi=10,\n",
        "                             model_svd_trained=svd_model,\n",
        "                             data_trainset=trainset_surprise,\n",
        "                             info_film_untuk_tampil=movies_content_base):\n",
        "    if not data_trainset:\n",
        "        print(\"Model SVD tidak dilatih karena tidak ada data training.\")\n",
        "        return pd.DataFrame(columns=['movieId', 'title', 'genres', 'Prediksi Rating'])\n",
        "\n",
        "    daftar_semua_movie_id_raw = [data_trainset.to_raw_iid(inner_id) for inner_id in data_trainset.all_items()]\n",
        "    film_sudah_dirating_raw_id = []\n",
        "    try:\n",
        "        inner_user_id = data_trainset.to_inner_uid(id_pengguna_asli)\n",
        "        film_sudah_dirating_raw_id = [\n",
        "            data_trainset.to_raw_iid(inner_item_id) for (inner_item_id, _) in data_trainset.ur[inner_user_id]\n",
        "        ]\n",
        "    except ValueError:\n",
        "        print(f\"Pengguna dengan ID {id_pengguna_asli} tidak ditemukan dalam data training.\")\n",
        "        return pd.DataFrame(columns=['movieId', 'title', 'genres', 'Prediksi Rating'])\n",
        "\n",
        "    film_belum_dirating_raw_id = [\n",
        "        movie_id for movie_id in daftar_semua_movie_id_raw if movie_id not in film_sudah_dirating_raw_id\n",
        "    ]\n",
        "\n",
        "    if not film_belum_dirating_raw_id:\n",
        "        print(f\"Pengguna {id_pengguna_asli} telah merating semua film atau tidak ada film baru untuk direkomendasikan.\")\n",
        "        return pd.DataFrame(columns=['movieId', 'title', 'genres', 'Prediksi Rating'])\n",
        "\n",
        "    prediksi_pengguna = []\n",
        "    for movie_id_raw in film_belum_dirating_raw_id:\n",
        "        hasil_prediksi_obj = model_svd_trained.predict(uid=id_pengguna_asli, iid=movie_id_raw)\n",
        "        prediksi_pengguna.append((movie_id_raw, hasil_prediksi_obj.est))\n",
        "\n",
        "    prediksi_pengguna.sort(key=lambda x: x[1], reverse=True)\n",
        "    top_n_prediksi_film = prediksi_pengguna[:jumlah_rekomendasi]\n",
        "\n",
        "    id_film_rekomendasi_svd = [pred[0] for pred in top_n_prediksi_film]\n",
        "    rating_prediksi_svd = [pred[1] for pred in top_n_prediksi_film]\n",
        "\n",
        "    df_rekomendasi_final_svd = pd.DataFrame({\n",
        "        'movieId': id_film_rekomendasi_svd,\n",
        "        'Prediksi Rating': rating_prediksi_svd\n",
        "    })\n",
        "\n",
        "    df_rekomendasi_final_svd = pd.merge(\n",
        "        df_rekomendasi_final_svd,\n",
        "        info_film_untuk_tampil[['title', 'genres']].reset_index(),\n",
        "        on='movieId',\n",
        "        how='left'\n",
        "    )\n",
        "    df_rekomendasi_final_svd = df_rekomendasi_final_svd[['movieId', 'title', 'genres', 'Prediksi Rating']]\n",
        "    return df_rekomendasi_final_svd.reset_index(drop=True)"
      ]
    },
    {
      "cell_type": "markdown",
      "source": [
        "Fungsi dapatkan_rekomendasi_svd menghasilkan daftar rekomendasi film untuk pengguna tertentu menggunakan pendekatan Collaborative Filtering berbasis model SVD. Dengan memanfaatkan model yang telah dilatih pada data pelatihan, fungsi ini memprediksi rating untuk film yang belum dirating oleh pengguna, mengurutkan hasil berdasarkan skor tertinggi, dan memilih sejumlah rekomendasi terbaik. Data prediksi digabungkan dengan informasi film seperti judul dan genre, lalu dikembalikan dalam bentuk dataframe berisi movieId, title, genres, dan Prediksi Rating."
      ],
      "metadata": {
        "id": "6teBDDs5RmC1"
      }
    },
    {
      "cell_type": "code",
      "execution_count": 36,
      "metadata": {
        "id": "WO7HuzV4pUcl"
      },
      "outputs": [],
      "source": [
        "def tampilkan_rekomendasi_svd_terformat(id_pengguna_asli, jumlah_tampil=5):\n",
        "    print(\"-\" * 90)\n",
        "    print(f\"REKOMENDASI COLLABORATIVE (SVD) untuk Pengguna ID: {id_pengguna_asli} (Top {jumlah_tampil})\")\n",
        "    print(\"-\" * 90)\n",
        "    hasil_df = dapatkan_rekomendasi_svd(id_pengguna_asli, jumlah_rekomendasi=jumlah_tampil)\n",
        "\n",
        "    if hasil_df.empty:\n",
        "        print(f\"Tidak dapat menghasilkan rekomendasi SVD untuk Pengguna ID {id_pengguna_asli}.\")\n",
        "    else:\n",
        "        tabel_hasil = hasil_df.reset_index(drop=True)\n",
        "        tabel_hasil.index = tabel_hasil.index + 1\n",
        "        tabel_hasil = tabel_hasil.rename_axis('Peringkat').reset_index()\n",
        "        tabel_hasil['Prediksi Rating'] = tabel_hasil['Prediksi Rating'].map('{:,.3f}'.format)\n",
        "        kolom_tampil = ['Peringkat', 'movieId', 'title', 'Prediksi Rating']\n",
        "        if 'genres' in tabel_hasil.columns: kolom_tampil.insert(3, 'genres')\n",
        "        print(tabel_hasil[kolom_tampil].to_string(index=False))\n",
        "    print(\"-\" * 90 + \"\\n\")\n"
      ]
    },
    {
      "cell_type": "markdown",
      "source": [
        "Fungsi tampilkan_rekomendasi_svd_terformat memformat dan menampilkan hasil rekomendasi Collaborative Filtering untuk pengguna tertentu dengan tata letak tabel yang rapi dan informatif. Fungsi ini memanggil dapatkan_rekomendasi_svd untuk mendapatkan daftar rekomendasi, kemudian memeriksa ketersediaan data. Jika data tidak tersedia, fungsi menampilkan pesan peringatan, sementara jika tersedia, hasilnya diformat ke dalam tabel berisi peringkat, movieId, judul, genre, dan prediksi rating. Dengan demikian, fungsi ini memastikan rekomendasi dari model SVD disajikan secara jelas dan mudah dipahami.\n"
      ],
      "metadata": {
        "id": "ygzHSws6SEoV"
      }
    },
    {
      "cell_type": "markdown",
      "source": [
        "## **C. Fungsi untuk Rekomendasi Neural Collaborative Filtering (NCF)**"
      ],
      "metadata": {
        "id": "kp3RSV0UPuWo"
      }
    },
    {
      "cell_type": "code",
      "source": [
        "# (BARU) C. Fungsi untuk Rekomendasi Neural Collaborative Filtering (NCF)\n",
        "print(\"\\n--- (BARU) C. Mendefinisikan Fungsi Rekomendasi NCF ---\")\n",
        "def dapatkan_rekomendasi_ncf(user_id_asli, jumlah_rekomendasi=10,\n",
        "                             model_ncf_trained=model_ncf, # Gunakan model_ncf yang sudah dilatih\n",
        "                             user_map_asli_ke_encoded=user_to_user_encoded_ncf,\n",
        "                             movie_map_encoded_ke_asli=movie_encoded_to_movie_ncf,\n",
        "                             # movie_map_asli_ke_encoded = movie_to_movie_encoded_ncf, # Tidak selalu dibutuhkan di sini\n",
        "                             info_film_untuk_tampil=movies_content_base,\n",
        "                             df_ratings_info=df_ratings_ncf): # Gunakan df_ratings_ncf yang sudah di-encode\n",
        "\n",
        "    if model_ncf_trained is None:\n",
        "        print(\"Model NCF tidak tersedia (belum dilatih).\")\n",
        "        return pd.DataFrame(columns=['movieId', 'title', 'genres', 'Prediksi Rating (NCF)'])\n",
        "\n",
        "    if user_id_asli not in user_map_asli_ke_encoded:\n",
        "        print(f\"Pengguna dengan ID asli {user_id_asli} tidak ditemukan dalam pemetaan NCF.\")\n",
        "        return pd.DataFrame(columns=['movieId', 'title', 'genres', 'Prediksi Rating (NCF)'])\n",
        "\n",
        "    user_encoded_id = user_map_asli_ke_encoded[user_id_asli]\n",
        "\n",
        "    film_sudah_dirating_user_asli = df_ratings_info[df_ratings_info['userId'] == user_id_asli]['movieId'].unique()\n",
        "\n",
        "    semua_movie_id_encoded_ncf = list(movie_map_encoded_ke_asli.keys())\n",
        "\n",
        "    film_belum_dirating_encoded = [\n",
        "        movie_enc for movie_enc in semua_movie_id_encoded_ncf\n",
        "        if movie_map_encoded_ke_asli.get(movie_enc) not in film_sudah_dirating_user_asli\n",
        "    ]\n",
        "\n",
        "    if not film_belum_dirating_encoded:\n",
        "        print(f\"Pengguna {user_id_asli} telah merating semua film yang ada di model NCF atau tidak ada film baru.\")\n",
        "        return pd.DataFrame(columns=['movieId', 'title', 'genres', 'Prediksi Rating (NCF)'])\n",
        "\n",
        "    user_array_ncf = np.array([user_encoded_id] * len(film_belum_dirating_encoded))\n",
        "    movie_array_ncf = np.array(film_belum_dirating_encoded)\n",
        "\n",
        "    prediksi_ncf = model_ncf_trained.predict([user_array_ncf, movie_array_ncf], verbose=0).flatten()\n",
        "\n",
        "    hasil_prediksi_df = pd.DataFrame({\n",
        "        'movie_encoded': film_belum_dirating_encoded,\n",
        "        'prediksi_rating_ncf': prediksi_ncf\n",
        "    })\n",
        "\n",
        "    top_n_prediksi_film_ncf = hasil_prediksi_df.sort_values(by='prediksi_rating_ncf', ascending=False).head(jumlah_rekomendasi)\n",
        "    top_n_prediksi_film_ncf['movieId'] = top_n_prediksi_film_ncf['movie_encoded'].map(movie_map_encoded_ke_asli)\n",
        "\n",
        "    # Pastikan info_film_untuk_tampil memiliki 'movieId' sebagai kolom jika belum di-reset index-nya\n",
        "    if info_film_untuk_tampil.index.name == 'movieId':\n",
        "        info_film_df = info_film_untuk_tampil.reset_index()\n",
        "    else:\n",
        "        info_film_df = info_film_untuk_tampil.copy()\n",
        "\n",
        "    df_rekomendasi_final_ncf = pd.merge(\n",
        "        top_n_prediksi_film_ncf[['movieId', 'prediksi_rating_ncf']],\n",
        "        info_film_df[['movieId', 'title', 'genres']],\n",
        "        on='movieId',\n",
        "        how='left'\n",
        "    )\n",
        "    df_rekomendasi_final_ncf.rename(columns={'prediksi_rating_ncf': 'Prediksi Rating (NCF)'}, inplace=True)\n",
        "\n",
        "    return df_rekomendasi_final_ncf[['movieId', 'title', 'genres', 'Prediksi Rating (NCF)']].reset_index(drop=True)\n",
        "\n",
        "\n",
        "def tampilkan_rekomendasi_ncf_terformat(user_id_asli, jumlah_tampil=5):\n",
        "    print(\"-\" * 95)\n",
        "    print(f\"REKOMENDASI NEURAL COLLABORATIVE FILTERING (NCF) untuk Pengguna ID: {user_id_asli} (Top {jumlah_tampil})\")\n",
        "    print(\"-\" * 95)\n",
        "    hasil_df_ncf = dapatkan_rekomendasi_ncf(user_id_asli, jumlah_rekomendasi=jumlah_tampil)\n",
        "\n",
        "    if hasil_df_ncf.empty:\n",
        "        print(f\"Tidak dapat menghasilkan rekomendasi NCF untuk Pengguna ID {user_id_asli}.\")\n",
        "    else:\n",
        "        tabel_hasil_ncf = hasil_df_ncf.reset_index(drop=True)\n",
        "        tabel_hasil_ncf.index = tabel_hasil_ncf.index + 1\n",
        "        tabel_hasil_ncf = tabel_hasil_ncf.rename_axis('Peringkat').reset_index()\n",
        "        tabel_hasil_ncf['Prediksi Rating (NCF)'] = tabel_hasil_ncf['Prediksi Rating (NCF)'].map('{:,.3f}'.format)\n",
        "        kolom_tampil_ncf = ['Peringkat', 'movieId', 'title', 'genres', 'Prediksi Rating (NCF)']\n",
        "        print(tabel_hasil_ncf[kolom_tampil_ncf].to_string(index=False))\n",
        "    print(\"-\" * 95 + \"\\\\n\")\n",
        "\n",
        "print(\"Fungsi rekomendasi NCF telah siap.\")"
      ],
      "metadata": {
        "colab": {
          "base_uri": "https://localhost:8080/"
        },
        "id": "WDtd88xZPveK",
        "outputId": "40427e52-934b-4244-c63d-5b46b9e0ec95"
      },
      "execution_count": 37,
      "outputs": [
        {
          "output_type": "stream",
          "name": "stdout",
          "text": [
            "\n",
            "--- (BARU) C. Mendefinisikan Fungsi Rekomendasi NCF ---\n",
            "Fungsi rekomendasi NCF telah siap.\n"
          ]
        }
      ]
    },
    {
      "cell_type": "markdown",
      "source": [
        "Fungsi dapatkan_rekomendasi_ncf menghasilkan daftar rekomendasi film untuk pengguna tertentu menggunakan pendekatan Neural Collaborative Filtering (NCF). Fungsi ini memprediksi rating film yang belum dirating oleh pengguna berdasarkan model NCF yang telah dilatih. Langkah kerja meliputi validasi ketersediaan model dan pengguna, identifikasi film yang belum dirating, prediksi rating menggunakan model NCF, dan seleksi hasil berdasarkan skor tertinggi. Data prediksi kemudian digabungkan dengan informasi film (judul dan genre) untuk menghasilkan dataframe rekomendasi dengan kolom movieId, title, genres, dan Prediksi Rating (NCF). Fungsi tampilkan_rekomendasi_ncf_terformat memformat hasil rekomendasi ini menjadi tabel rapi, menampilkan peringkat, judul, genre, dan prediksi rating, sehingga memudahkan interpretasi oleh pengguna."
      ],
      "metadata": {
        "id": "a7VR3wNZSXpd"
      }
    },
    {
      "cell_type": "markdown",
      "metadata": {
        "id": "UwT8V3lcYuLM"
      },
      "source": [
        "## **D. Fungsi Hybrid**"
      ]
    },
    {
      "cell_type": "code",
      "execution_count": 38,
      "metadata": {
        "id": "byeb8SyOYvTQ"
      },
      "outputs": [],
      "source": [
        "def dapatkan_rekomendasi_hybrid(id_pengguna_asli, judul_film_referensi_cb, jumlah_rekomendasi=10,\n",
        "                                w_svd=0.6, w_cb=0.4, # Bobot bisa disesuaikan\n",
        "                                data_film_info=movies_content_base,\n",
        "                                rating_min=min_rating_val, rating_max=max_rating_val):\n",
        "    # 1. Dapatkan rekomendasi SVD\n",
        "    svd_recs_df = dapatkan_rekomendasi_svd(id_pengguna_asli, jumlah_rekomendasi=jumlah_rekomendasi * 2) # Ambil lebih banyak untuk di-rank ulang\n",
        "    if svd_recs_df.empty:\n",
        "        svd_df_processed = pd.DataFrame(columns=['movieId', 'norm_svd_score'])\n",
        "    else:\n",
        "        svd_df_processed = svd_recs_df[['movieId', 'Prediksi Rating']].copy()\n",
        "        svd_df_processed.rename(columns={'Prediksi Rating': 'svd_score'}, inplace=True)\n",
        "        # Normalisasi skor SVD ke rentang 0-1\n",
        "        svd_df_processed['norm_svd_score'] = (svd_df_processed['svd_score'] - rating_min) / (rating_max - rating_min)\n",
        "        svd_df_processed = svd_df_processed[['movieId', 'norm_svd_score']]\n",
        "\n",
        "\n",
        "    # 2. Dapatkan rekomendasi Content-Based\n",
        "    cb_recs_df_raw = dapatkan_rekomendasi_content_based(judul_film_referensi_cb, jumlah_rekomendasi=jumlah_rekomendasi * 2)\n",
        "    if isinstance(cb_recs_df_raw, str) or cb_recs_df_raw.empty:\n",
        "         cb_df_processed = pd.DataFrame(columns=['movieId', 'cb_score'])\n",
        "    else:\n",
        "        cb_df_processed = cb_recs_df_raw[['movieId', 'Skor Similaritas']].copy()\n",
        "        cb_df_processed.rename(columns={'Skor Similaritas': 'cb_score'}, inplace=True)\n",
        "\n",
        "    # 3. Gabungkan rekomendasi\n",
        "    # Pastikan movieId unik jika ada duplikasi dari sumber yang berbeda\n",
        "    # Outer merge untuk mengambil semua film dari kedua sistem\n",
        "    merged_df = pd.merge(svd_df_processed, cb_df_processed, on='movieId', how='outer')\n",
        "    merged_df[['norm_svd_score', 'cb_score']] = merged_df[['norm_svd_score', 'cb_score']].fillna(0)\n",
        "\n",
        "    # 4. Hitung skor hybrid\n",
        "    merged_df['hybrid_score'] = (w_svd * merged_df['norm_svd_score']) + (w_cb * merged_df['cb_score'])\n",
        "\n",
        "    # 5. Urutkan dan ambil top N\n",
        "    top_hybrid_recs = merged_df.sort_values(by='hybrid_score', ascending=False).head(jumlah_rekomendasi)\n",
        "\n",
        "    # 6. Gabungkan dengan informasi film\n",
        "    final_df = pd.merge(top_hybrid_recs[['movieId', 'hybrid_score', 'norm_svd_score', 'cb_score']],\n",
        "                        data_film_info.reset_index()[['movieId', 'title', 'genres']],\n",
        "                        on='movieId',\n",
        "                        how='left')\n",
        "    return final_df[['movieId', 'title', 'genres', 'hybrid_score', 'norm_svd_score', 'cb_score']].reset_index(drop=True)\n",
        "\n",
        "\n"
      ]
    },
    {
      "cell_type": "markdown",
      "source": [
        "Fungsi dapatkan_rekomendasi_hybrid menggabungkan rekomendasi dari dua metode, yaitu Collaborative Filtering berbasis SVD dan Content-Based Filtering, dengan bobot tertentu untuk masing-masing (default SVD 0.6 dan CB 0.4). Fungsi mengambil rekomendasi dari kedua metode, menormalkan skor SVD, lalu menggabungkan dan menghitung skor hybrid sebagai kombinasi bobot dari kedua skor tersebut. Hasilnya diurutkan dan dikembalikan bersama informasi film (judul dan genre). Fungsi"
      ],
      "metadata": {
        "id": "yGOZWY4VSdEX"
      }
    },
    {
      "cell_type": "code",
      "execution_count": 39,
      "metadata": {
        "id": "QKgnsLFQpazO",
        "colab": {
          "base_uri": "https://localhost:8080/"
        },
        "outputId": "53746010-0d9e-423c-e27d-f42e5e0f458b"
      },
      "outputs": [
        {
          "output_type": "stream",
          "name": "stdout",
          "text": [
            "Fungsi-fungsi pendukung rekomendasi (termasuk Hybrid) telah siap.\n"
          ]
        }
      ],
      "source": [
        "def tampilkan_rekomendasi_hybrid_terformat(id_pengguna_asli, judul_film_referensi_cb, jumlah_tampil=5, w_svd=0.6, w_cb=0.4):\n",
        "    print(\"-\" * 110)\n",
        "    print(f\"REKOMENDASI HYBRID untuk Pengguna ID: {id_pengguna_asli}, Ref CB: '{judul_film_referensi_cb}' (Top {jumlah_tampil})\")\n",
        "    print(f\"Bobot: SVD={w_svd}, CB={w_cb}\")\n",
        "    print(\"-\" * 110)\n",
        "    hasil_df = dapatkan_rekomendasi_hybrid(id_pengguna_asli, judul_film_referensi_cb,\n",
        "                                          jumlah_rekomendasi=jumlah_tampil, w_svd=w_svd, w_cb=w_cb)\n",
        "\n",
        "    if hasil_df.empty:\n",
        "        print(f\"Tidak dapat menghasilkan rekomendasi hybrid untuk Pengguna ID {id_pengguna_asli} dengan referensi '{judul_film_referensi_cb}'.\")\n",
        "    else:\n",
        "        tabel_hasil = hasil_df.reset_index(drop=True)\n",
        "        tabel_hasil.index = tabel_hasil.index + 1\n",
        "        tabel_hasil = tabel_hasil.rename_axis('Peringkat').reset_index()\n",
        "        tabel_hasil['hybrid_score'] = tabel_hasil['hybrid_score'].map('{:,.4f}'.format)\n",
        "        tabel_hasil['norm_svd_score'] = tabel_hasil['norm_svd_score'].map('{:,.3f}'.format)\n",
        "        tabel_hasil['cb_score'] = tabel_hasil['cb_score'].map('{:,.3f}'.format)\n",
        "\n",
        "        kolom_tampil = ['Peringkat', 'movieId', 'title', 'genres', 'hybrid_score', 'norm_svd_score', 'cb_score']\n",
        "        print(tabel_hasil[kolom_tampil].to_string(index=False))\n",
        "    print(\"-\" * 110 + \"\\n\")\n",
        "\n",
        "print(\"Fungsi-fungsi pendukung rekomendasi (termasuk Hybrid) telah siap.\")"
      ]
    },
    {
      "cell_type": "markdown",
      "source": [
        "tampilkan_rekomendasi_hybrid_terformat menampilkan hasil rekomendasi hybrid ini dalam format tabel rapi yang memuat peringkat, movieId, judul, genre, skor hybrid, serta skor masing-masing metode, memudahkan pengguna memahami dan membandingkan kontribusi kedua pendekatan dalam rekomendasi."
      ],
      "metadata": {
        "id": "9LW2durNSe4r"
      }
    },
    {
      "cell_type": "markdown",
      "metadata": {
        "id": "X9Ho114DHtdy"
      },
      "source": [
        "# **6. EVALUASI KINERJA MODEL**"
      ]
    },
    {
      "cell_type": "markdown",
      "metadata": {
        "id": "R_RI72jkHvCo"
      },
      "source": [
        "Mengevaluasi Kinerja Model"
      ]
    },
    {
      "cell_type": "markdown",
      "metadata": {
        "id": "CSK0Y9e2Huub"
      },
      "source": [
        "## **A. Evaluasi Model Collaborative Filtering (SVD)**"
      ]
    },
    {
      "cell_type": "markdown",
      "source": [
        "Evaluasi model Collaborative Filtering (SVD) dilakukan dengan metrik RMSE dan MAE untuk mengukur akurasi prediksi rating. RMSE menghitung standar deviasi error prediksi dengan bobot lebih pada error besar, sementara MAE mengukur rata-rata selisih absolut antara prediksi dan nilai asli, yang lebih tahan terhadap outlier. Metrik dihitung menggunakan predictions_svd_testset dengan hasil ditampilkan dalam format teks dan divisualisasikan melalui grafik batang. Jika data tidak mencukupi, evaluasi akan menampilkan pesan peringatan dan menetapkan nilai placeholder -1.0 untuk RMSE dan MAE. Nilai metrik yang lebih kecil mencerminkan kinerja model yang lebih baik."
      ],
      "metadata": {
        "id": "WKAy1ghSVOEs"
      }
    },
    {
      "cell_type": "code",
      "execution_count": 40,
      "metadata": {
        "id": "qb405fB3HrmH",
        "colab": {
          "base_uri": "https://localhost:8080/",
          "height": 581
        },
        "outputId": "0f447db3-42d0-45b3-de31-5b64b6bf53fa"
      },
      "outputs": [
        {
          "output_type": "stream",
          "name": "stdout",
          "text": [
            "\n",
            "Mengevaluasi Model SVD pada test set...\n",
            "RMSE: 0.9077\n",
            "MAE:  0.7014\n",
            "\n",
            "SVD Model Performance: RMSE = 0.9077, MAE = 0.7014\n"
          ]
        },
        {
          "output_type": "display_data",
          "data": {
            "text/plain": [
              "<Figure size 700x500 with 1 Axes>"
            ],
            "image/png": "[encoded data removed]"
          },
          "metadata": {}
        }
      ],
      "source": [
        "print(\"\\nMengevaluasi Model SVD pada test set...\")\n",
        "if predictions_svd_testset:\n",
        "    rmse_svd_value = accuracy.rmse(predictions_svd_testset, verbose=True)\n",
        "    mae_svd_value = accuracy.mae(predictions_svd_testset, verbose=True)\n",
        "    print(f\"\\nSVD Model Performance: RMSE = {rmse_svd_value:.4f}, MAE = {mae_svd_value:.4f}\")\n",
        "\n",
        "    plt.figure(figsize=(7, 5))\n",
        "    metrics_names = ['RMSE (SVD)', 'MAE (SVD)']\n",
        "    metrics_values = [rmse_svd_value, mae_svd_value]\n",
        "    bars = plt.bar(metrics_names, metrics_values, color=['cornflowerblue', 'lightcoral'])\n",
        "    plt.ylabel('Nilai Error')\n",
        "    plt.title('Metrik Evaluasi Model SVD')\n",
        "    for bar in bars:\n",
        "        yval = bar.get_height()\n",
        "        plt.text(bar.get_x() + bar.get_width()/2.0, yval + 0.01, f'{yval:.4f}', ha='center', va='bottom')\n",
        "    plt.ylim(0, max(metrics_values) * 1.3 if metrics_values else 1.3)\n",
        "    plt.grid(axis='y', linestyle=':', alpha=0.7)\n",
        "    plt.show()\n",
        "else:\n",
        "    print(\"Tidak ada prediksi SVD untuk dievaluasi.\")\n",
        "    rmse_svd_value, mae_svd_value = -1.0, -1.0 # Nilai placeholder\n"
      ]
    },
    {
      "cell_type": "markdown",
      "source": [
        "## **B. Evaluasi Model Neural Collaborative Filtering (NCF)**"
      ],
      "metadata": {
        "id": "YavYlu2QQGYL"
      }
    },
    {
      "cell_type": "markdown",
      "source": [
        "Evaluasi model Neural Collaborative Filtering (NCF) dilakukan menggunakan metrik berbasis error seperti Loss (MSE), RMSE, dan MAE untuk mengukur performa model pada validation set. Loss (MSE) menghitung rata-rata kesalahan kuadrat, RMSE mengevaluasi standar deviasi error dengan bobot lebih pada error besar, sedangkan MAE menghitung rata-rata selisih absolut antara prediksi dan nilai asli, yang lebih robust terhadap outlier. Metrik dihitung melalui evaluasi model pada validation set dengan hasil ditampilkan dalam format teks dan divisualisasikan menggunakan grafik batang. Jika data atau model tidak mencukupi, evaluasi akan menampilkan pesan peringatan dan menetapkan nilai placeholder -1.0 untuk RMSE dan MAE. Nilai metrik yang lebih kecil mencerminkan performa model yang lebih baik."
      ],
      "metadata": {
        "id": "euM4AsLyVnR8"
      }
    },
    {
      "cell_type": "code",
      "source": [
        "print(\"\\n--- Evaluasi Model NCF ---\")\n",
        "\n",
        "if model_ncf is not None and X_val_ncf is not None:\n",
        "    # Siapkan input untuk model Keras (list of arrays: [userId, movieId])\n",
        "    X_val_ncf_keras_eval = [X_val_ncf[:, 0], X_val_ncf[:, 1]]\n",
        "\n",
        "    # Evaluasi model (mengembalikan loss dan metric yang digunakan saat compile, misal RMSE)\n",
        "    val_loss_ncf, val_rmse_ncf = model_ncf.evaluate(X_val_ncf_keras_eval, y_val_ncf, verbose=0)\n",
        "    print(f\"NCF Model Performance on Validation Set: Loss (MSE) = {val_loss_ncf:.4f}, RMSE = {val_rmse_ncf:.4f}\")\n",
        "\n",
        "    # Prediksi untuk menghitung MAE manual\n",
        "    y_pred_val_ncf = model_ncf.predict(X_val_ncf_keras_eval, verbose=0).flatten()\n",
        "\n",
        "    # Hitung MAE secara manual (pakai keras.metrics.MeanAbsoluteError sebagai class)\n",
        "    mae_ncf_metric = tf.keras.metrics.MeanAbsoluteError()\n",
        "    mae_ncf_metric.update_state(y_val_ncf, y_pred_val_ncf)\n",
        "    mae_ncf_value = mae_ncf_metric.result().numpy()\n",
        "\n",
        "    print(f\"NCF Model MAE on Validation Set: {mae_ncf_value:.4f}\")\n",
        "\n",
        "    # Plot metrik evaluasi\n",
        "    plt.figure(figsize=(7, 5))\n",
        "    metrics_names_ncf_eval = ['RMSE (NCF)', 'MAE (NCF)']\n",
        "    metrics_values_ncf_eval = [val_rmse_ncf, mae_ncf_value]\n",
        "\n",
        "    bars_ncf = plt.bar(metrics_names_ncf_eval, metrics_values_ncf_eval, color=['darkorange', 'mediumseagreen'])\n",
        "    plt.ylabel('Nilai Error')\n",
        "    plt.title('Metrik Evaluasi Model NCF (Validation Set)')\n",
        "\n",
        "    for bar in bars_ncf:\n",
        "        yval = bar.get_height()\n",
        "        plt.text(bar.get_x() + bar.get_width()/2.0, yval + 0.01, f'{yval:.4f}', ha='center', va='bottom')\n",
        "\n",
        "    plt.ylim(0, max(metrics_values_ncf_eval) * 1.3)\n",
        "    plt.grid(axis='y', linestyle=':', alpha=0.7)\n",
        "    plt.show()\n",
        "\n",
        "else:\n",
        "    print(\"Model NCF tidak dievaluasi karena tidak dilatih.\")\n",
        "    val_rmse_ncf, mae_ncf_value = -1.0, -1.0  # Placeholder\n"
      ],
      "metadata": {
        "colab": {
          "base_uri": "https://localhost:8080/",
          "height": 543
        },
        "id": "IQZP8TW3QPfd",
        "outputId": "98c797a6-123a-40bc-ac87-3ace01456cb5"
      },
      "execution_count": 41,
      "outputs": [
        {
          "output_type": "stream",
          "name": "stdout",
          "text": [
            "\n",
            "--- Evaluasi Model NCF ---\n",
            "NCF Model Performance on Validation Set: Loss (MSE) = 0.8209, RMSE = 0.9044\n",
            "NCF Model MAE on Validation Set: 0.7076\n"
          ]
        },
        {
          "output_type": "display_data",
          "data": {
            "text/plain": [
              "<Figure size 700x500 with 1 Axes>"
            ],
            "image/png": "[encoded data removed]"
          },
          "metadata": {}
        }
      ]
    },
    {
      "cell_type": "markdown",
      "metadata": {
        "id": "zrJherXOH77I"
      },
      "source": [
        "## C. **Evaluasi Model Content-Based Filtering - Precision@K (Simulasi)**"
      ]
    },
    {
      "cell_type": "markdown",
      "source": [
        "Evaluasi Content-Based Filtering menggunakan Precision@K dilakukan untuk mengukur kualitas rekomendasi dengan menghitung persentase item relevan di antara K rekomendasi teratas. Model dievaluasi dengan memilih pengguna sampel, menentukan item relevan (rating ≥ 4), dan menghasilkan rekomendasi berdasarkan satu item relevan sebagai referensi. Precision rata-rata dihitung dan ditampilkan dalam format teks serta divisualisasikan melalui grafik batang. Jika data atau pengguna tidak mencukupi, evaluasi akan memberikan pesan peringatan dengan nilai Precision default 0.0. Nilai Precision@K yang lebih tinggi menunjukkan efektivitas model yang lebih baik dalam memberikan rekomendasi yang relevan."
      ],
      "metadata": {
        "id": "enTINMgjWBUm"
      }
    },
    {
      "cell_type": "code",
      "execution_count": 42,
      "metadata": {
        "id": "OshgkGCNHrjT",
        "colab": {
          "base_uri": "https://localhost:8080/"
        },
        "outputId": "5a12750e-b727-441e-87c8-010fd4275c9f"
      },
      "outputs": [
        {
          "output_type": "stream",
          "name": "stdout",
          "text": [
            "\n",
            "Mengevaluasi Model Content-Based Filtering (Precision@K)...\n",
            "Content-Based Filtering (Simulasi) - Rata-rata Precision@5: 0.1800\n"
          ]
        }
      ],
      "source": [
        "print(\"\\nMengevaluasi Model Content-Based Filtering (Precision@K)...\")\n",
        "def hitung_precision_at_k_cb(jumlah_rekomendasi_dihasilkan=5, K_untuk_precision=5, jumlah_pengguna_sampel=20, # Kurangi sampel\n",
        "                            data_ratings_eval=df_ratings_cf_surprise, data_film_eval=movies_content_base,\n",
        "                            lookup_judul_eval=title_to_movieid_lookup_cb):\n",
        "    if data_ratings_eval.empty or data_film_eval.empty:\n",
        "        print(\"Tidak cukup data untuk evaluasi CB.\")\n",
        "        return 0.0\n",
        "    kumpulan_precision = []\n",
        "    id_pengguna_valid_sampel = data_ratings_eval['userId'].unique()\n",
        "    if len(id_pengguna_valid_sampel) == 0: return 0.0\n",
        "    if len(id_pengguna_valid_sampel) < jumlah_pengguna_sampel:\n",
        "        jumlah_pengguna_sampel = max(1, len(id_pengguna_valid_sampel))\n",
        "\n",
        "    id_pengguna_dipilih_sampel = np.random.choice(id_pengguna_valid_sampel, size=jumlah_pengguna_sampel, replace=False)\n",
        "    pengguna_berhasil_diproses = 0\n",
        "\n",
        "    for id_user_eval in id_pengguna_dipilih_sampel:\n",
        "        rating_user_eval = data_ratings_eval[data_ratings_eval['userId'] == id_user_eval]\n",
        "        item_relevan_pengguna = set(rating_user_eval[rating_user_eval['rating'] >= 4.0]['movieId'].tolist())\n",
        "        if not item_relevan_pengguna: continue\n",
        "\n",
        "        # Ambil satu film yang disukai pengguna sebagai referensi CB\n",
        "        id_film_query_cb = list(item_relevan_pengguna)[0]\n",
        "        if id_film_query_cb not in data_film_eval.index: continue # Pastikan movieId ada di movies_content_base\n",
        "        judul_film_query_cb_series = data_film_eval.loc[id_film_query_cb, 'title']\n",
        "        judul_film_query_cb = judul_film_query_cb_series if isinstance(judul_film_query_cb_series, str) else judul_film_query_cb_series.iloc[0]\n",
        "\n",
        "        df_rekomendasi_eval_cb = dapatkan_rekomendasi_content_based(judul_film_query_cb, jumlah_rekomendasi=jumlah_rekomendasi_dihasilkan)\n",
        "        if isinstance(df_rekomendasi_eval_cb, str) or df_rekomendasi_eval_cb.empty: continue\n",
        "\n",
        "        id_film_hasil_rekom_cb = df_rekomendasi_eval_cb['movieId'].tolist()\n",
        "        if not id_film_hasil_rekom_cb:\n",
        "            kumpulan_precision.append(0.0)\n",
        "            continue\n",
        "\n",
        "        jumlah_hits = len(item_relevan_pengguna.intersection(set(id_film_hasil_rekom_cb[:K_untuk_precision])))\n",
        "        nilai_precision_at_k = jumlah_hits / K_untuk_precision if K_untuk_precision > 0 else 0.0\n",
        "        kumpulan_precision.append(nilai_precision_at_k)\n",
        "        pengguna_berhasil_diproses +=1\n",
        "\n",
        "    if pengguna_berhasil_diproses < jumlah_pengguna_sampel * 0.2 and jumlah_pengguna_sampel > 0:\n",
        "        print(f\"PERINGATAN: Hanya {pengguna_berhasil_diproses} dari {jumlah_pengguna_sampel} pengguna berhasil diproses utk eval CB.\")\n",
        "    return np.mean(kumpulan_precision) if kumpulan_precision else 0.0\n",
        "\n",
        "precision_at_5_cb_value = hitung_precision_at_k_cb(jumlah_rekomendasi_dihasilkan=5, K_untuk_precision=5, jumlah_pengguna_sampel=10) # Kurangi sampel\n",
        "print(f\"Content-Based Filtering (Simulasi) - Rata-rata Precision@5: {precision_at_5_cb_value:.4f}\")"
      ]
    },
    {
      "cell_type": "markdown",
      "metadata": {
        "id": "l6-mAmqtpxg1"
      },
      "source": [
        "## **D. Evaluasi Hybrid**"
      ]
    },
    {
      "cell_type": "markdown",
      "source": [
        "Evaluasi Model Hybrid Filtering - Precision@K\n",
        "Model Hybrid Filtering menggabungkan SVD dan Content-Based Filtering dengan bobot tertentu untuk menghasilkan rekomendasi yang lebih akurat. Precision@K mengukur proporsi rekomendasi yang relevan di antara K item teratas.\n",
        "\n",
        "Pada kode, Precision dihitung dengan memilih pengguna sampel, menentukan item relevan (rating ≥ 4), menghasilkan rekomendasi hybrid, dan mengevaluasi proporsi item relevan dalam rekomendasi. Hasil Precision rata-rata ditampilkan, dengan peringatan jika pengguna yang diproses kurang dari 20%. Jika data tidak mencukupi, nilai Precision default adalah 0.0."
      ],
      "metadata": {
        "id": "IwzcwZXSWb87"
      }
    },
    {
      "cell_type": "code",
      "execution_count": 43,
      "metadata": {
        "id": "srKs2yXmZUJK",
        "colab": {
          "base_uri": "https://localhost:8080/"
        },
        "outputId": "644d789d-0e98-4e8c-faad-4ae2aa8fbfc1"
      },
      "outputs": [
        {
          "output_type": "stream",
          "name": "stdout",
          "text": [
            "\n",
            "Mengevaluasi Model Hybrid Filtering (Precision@K)...\n",
            "Hybrid Filtering (Simulasi) - Rata-rata Precision@5: 0.0400\n",
            "--- Evaluasi Kinerja Model Selesai ---\n"
          ]
        }
      ],
      "source": [
        "print(\"\\nMengevaluasi Model Hybrid Filtering (Precision@K)...\")\n",
        "def hitung_precision_at_k_hybrid(K_untuk_precision=5, jumlah_pengguna_sampel=10, # Kurangi sampel\n",
        "                                 data_ratings_eval=df_ratings_cf_surprise, data_film_eval=movies_content_base,\n",
        "                                 w_svd=0.6, w_cb=0.4):\n",
        "    if data_ratings_eval.empty or data_film_eval.empty:\n",
        "        print(\"Tidak cukup data untuk evaluasi Hybrid.\")\n",
        "        return 0.0\n",
        "    kumpulan_precision = []\n",
        "    id_pengguna_valid_sampel = data_ratings_eval['userId'].unique()\n",
        "    if len(id_pengguna_valid_sampel) == 0: return 0.0\n",
        "    if len(id_pengguna_valid_sampel) < jumlah_pengguna_sampel:\n",
        "        jumlah_pengguna_sampel = max(1, len(id_pengguna_valid_sampel))\n",
        "\n",
        "    id_pengguna_dipilih_sampel = np.random.choice(id_pengguna_valid_sampel, size=jumlah_pengguna_sampel, replace=False)\n",
        "    pengguna_berhasil_diproses = 0\n",
        "\n",
        "    for id_user_eval in id_pengguna_dipilih_sampel:\n",
        "        rating_user_eval = data_ratings_eval[data_ratings_eval['userId'] == id_user_eval]\n",
        "        item_relevan_pengguna = set(rating_user_eval[rating_user_eval['rating'] >= 4.0]['movieId'].tolist())\n",
        "        if not item_relevan_pengguna: continue\n",
        "\n",
        "        id_film_referensi_cb_hybrid = list(item_relevan_pengguna)[0]\n",
        "        if id_film_referensi_cb_hybrid not in data_film_eval.index: continue\n",
        "        judul_film_referensi_cb_hybrid_series = data_film_eval.loc[id_film_referensi_cb_hybrid, 'title']\n",
        "        judul_film_referensi_cb_hybrid = judul_film_referensi_cb_hybrid_series if isinstance(judul_film_referensi_cb_hybrid_series, str) else judul_film_referensi_cb_hybrid_series.iloc[0]\n",
        "\n",
        "        df_rekomendasi_eval_hybrid = dapatkan_rekomendasi_hybrid(\n",
        "            id_user_eval, judul_film_referensi_cb_hybrid,\n",
        "            jumlah_rekomendasi=K_untuk_precision, w_svd=w_svd, w_cb=w_cb\n",
        "        )\n",
        "\n",
        "        if df_rekomendasi_eval_hybrid.empty:\n",
        "            # print(f\"Tidak ada rek hybrid untuk user {id_user_eval} & ref {judul_film_referensi_cb_hybrid}\")\n",
        "            kumpulan_precision.append(0.0)\n",
        "            continue\n",
        "\n",
        "        id_film_hasil_rekom_hybrid = df_rekomendasi_eval_hybrid['movieId'].tolist()\n",
        "        if not id_film_hasil_rekom_hybrid:\n",
        "            kumpulan_precision.append(0.0)\n",
        "            continue\n",
        "\n",
        "        jumlah_hits = len(item_relevan_pengguna.intersection(set(id_film_hasil_rekom_hybrid[:K_untuk_precision])))\n",
        "        nilai_precision_at_k = jumlah_hits / K_untuk_precision if K_untuk_precision > 0 else 0.0\n",
        "        kumpulan_precision.append(nilai_precision_at_k)\n",
        "        pengguna_berhasil_diproses += 1\n",
        "\n",
        "    if pengguna_berhasil_diproses < jumlah_pengguna_sampel * 0.2 and jumlah_pengguna_sampel > 0 :\n",
        "         print(f\"PERINGATAN: Hanya {pengguna_berhasil_diproses} dari {jumlah_pengguna_sampel} pengguna berhasil diproses utk eval Hybrid.\")\n",
        "    return np.mean(kumpulan_precision) if kumpulan_precision else 0.0\n",
        "\n",
        "precision_at_5_hybrid_value = hitung_precision_at_k_hybrid(K_untuk_precision=5, jumlah_pengguna_sampel=10) # Kurangi sampel\n",
        "print(f\"Hybrid Filtering (Simulasi) - Rata-rata Precision@5: {precision_at_5_hybrid_value:.4f}\")\n",
        "\n",
        "print(\"--- Evaluasi Kinerja Model Selesai ---\")"
      ]
    },
    {
      "cell_type": "markdown",
      "metadata": {
        "id": "68LamNMEIHxD"
      },
      "source": [
        "# **7. DEMONSTRASI PENGGUNAAN SISTEM REKOMENDASI**"
      ]
    },
    {
      "cell_type": "markdown",
      "metadata": {
        "id": "l9G9jgVgIKxY"
      },
      "source": [
        "Bagian ini menunjukkan bagaimana fungsi rekomendasi yang telah kita buat dapat digunakan untuk menghasilkan rekomendasi nyata untuk pengguna atau berdasarkan film tertentu."
      ]
    },
    {
      "cell_type": "markdown",
      "metadata": {
        "id": "pL_eeKc5IKPB"
      },
      "source": [
        "## A. Contoh Rekomendasi Berbasis Content Based"
      ]
    },
    {
      "cell_type": "markdown",
      "source": [
        "Berikut adalah contoh rekomendasi Content-Based untuk film yang memiliki genre dan tag paling mirip dengan film \"Bugsy (1991)\" sebagai contoh."
      ],
      "metadata": {
        "id": "T2p07pbAXplG"
      }
    },
    {
      "cell_type": "code",
      "execution_count": 44,
      "metadata": {
        "id": "eBAAZSvcHrZk",
        "colab": {
          "base_uri": "https://localhost:8080/"
        },
        "outputId": "717d2fcb-4bbf-49c6-d2c9-15c151ff8eda"
      },
      "outputs": [
        {
          "output_type": "stream",
          "name": "stdout",
          "text": [
            "\n",
            "Contoh Rekomendasi Content-Based untuk film: 'Bugsy (1991)'\n",
            "--------------------------------------------------------------------------------\n",
            "REKOMENDASI CONTENT-BASED untuk: 'Bugsy (1991)' (Top 5)\n",
            "--------------------------------------------------------------------------------\n",
            " Peringkat  movieId                                                title                       genres Skor Similaritas\n",
            "         1     2023                      Godfather: Part III, The (1990) Crime|Drama|Mystery|Thriller           0.5905\n",
            "         2       30 Shanghai Triad (Yao a yao yao dao waipo qiao) (1995)                  Crime|Drama           0.5559\n",
            "         3      117                Young Poisoner's Handbook, The (1995)                  Crime|Drama           0.5559\n",
            "         4      245                             Glass Shield, The (1994)                  Crime|Drama           0.5559\n",
            "         5      247                            Heavenly Creatures (1994)                  Crime|Drama           0.5559\n",
            "--------------------------------------------------------------------------------\n",
            "\n"
          ]
        }
      ],
      "source": [
        "contoh_judul_film_cb = \"Bugsy (1991)\"\n",
        "if contoh_judul_film_cb in title_to_movieid_lookup_cb:\n",
        "    print(f\"\\nContoh Rekomendasi Content-Based untuk film: '{contoh_judul_film_cb}'\")\n",
        "    tampilkan_rekomendasi_cb_terformat(contoh_judul_film_cb, jumlah_tampil=5)\n",
        "else:\n",
        "    # Cari judul alternatif jika yang spesifik tidak ada\n",
        "    if not movies_content_base.empty:\n",
        "        contoh_judul_film_cb_alt = movies_content_base['title'].sample(1).iloc[0]\n",
        "        print(f\"\\nFilm '{contoh_judul_film_cb}' tidak ditemukan. Menampilkan contoh untuk: '{contoh_judul_film_cb_alt}'\")\n",
        "        tampilkan_rekomendasi_cb_terformat(contoh_judul_film_cb_alt, jumlah_tampil=5)\n",
        "    else:\n",
        "        print(f\"\\nFilm '{contoh_judul_film_cb}' tidak ditemukan dan tidak ada film alternatif.\")"
      ]
    },
    {
      "cell_type": "markdown",
      "metadata": {
        "id": "KkcezlNqIOh_"
      },
      "source": [
        "## B. Contoh Rekomendasi Berbasis Kolaboratif (svd)\n",
        "\n"
      ]
    },
    {
      "cell_type": "code",
      "execution_count": 45,
      "metadata": {
        "id": "a-Xrk195HrWG",
        "colab": {
          "base_uri": "https://localhost:8080/"
        },
        "outputId": "fa0d6bf6-9dc5-47ec-da78-8bfed5f2f746"
      },
      "outputs": [
        {
          "output_type": "stream",
          "name": "stdout",
          "text": [
            "\n",
            "Contoh Rekomendasi Collaborative Filtering (SVD) untuk Pengguna ID: 61\n",
            "------------------------------------------------------------------------------------------\n",
            "REKOMENDASI COLLABORATIVE (SVD) untuk Pengguna ID: 61 (Top 5)\n",
            "------------------------------------------------------------------------------------------\n",
            " Peringkat  movieId                            title                      genres Prediksi Rating\n",
            "         1      858            Godfather, The (1972)                 Crime|Drama           4.699\n",
            "         2      296              Pulp Fiction (1994) Comedy|Crime|Drama|Thriller           4.545\n",
            "         3    58559          Dark Knight, The (2008)     Action|Crime|Drama|IMAX           4.478\n",
            "         4     1221   Godfather: Part II, The (1974)                 Crime|Drama           4.452\n",
            "         5      318 Shawshank Redemption, The (1994)                 Crime|Drama           4.353\n",
            "------------------------------------------------------------------------------------------\n",
            "\n",
            "\n",
            "Contoh Rekomendasi Collaborative Filtering (SVD) untuk Pengguna ID: 746\n",
            "------------------------------------------------------------------------------------------\n",
            "REKOMENDASI COLLABORATIVE (SVD) untuk Pengguna ID: 746 (Top 5)\n",
            "------------------------------------------------------------------------------------------\n",
            " Peringkat  movieId                                                     title                      genres Prediksi Rating\n",
            "         1      318                          Shawshank Redemption, The (1994)                 Crime|Drama           4.433\n",
            "         2    91529                             Dark Knight Rises, The (2012) Action|Adventure|Crime|IMAX           4.382\n",
            "         3     4993 Lord of the Rings: The Fellowship of the Ring, The (2001)           Adventure|Fantasy           4.352\n",
            "         4      260                 Star Wars: Episode IV - A New Hope (1977)     Action|Adventure|Sci-Fi           4.304\n",
            "         5       50                                Usual Suspects, The (1995)      Crime|Mystery|Thriller           4.302\n",
            "------------------------------------------------------------------------------------------\n",
            "\n",
            "\n",
            "Contoh Rekomendasi Collaborative Filtering (SVD) untuk Pengguna ID: 261\n",
            "------------------------------------------------------------------------------------------\n",
            "REKOMENDASI COLLABORATIVE (SVD) untuk Pengguna ID: 261 (Top 5)\n",
            "------------------------------------------------------------------------------------------\n",
            " Peringkat  movieId                                       title                  genres Prediksi Rating\n",
            "         1     1284                       Big Sleep, The (1946) Crime|Film-Noir|Mystery           4.009\n",
            "         2     1221              Godfather: Part II, The (1974)             Crime|Drama           3.959\n",
            "         3      318            Shawshank Redemption, The (1994)             Crime|Drama           3.939\n",
            "         4     1193      One Flew Over the Cuckoo's Nest (1975)                   Drama           3.912\n",
            "         5     2019 Seven Samurai (Shichinin no samurai) (1954)  Action|Adventure|Drama           3.885\n",
            "------------------------------------------------------------------------------------------\n",
            "\n"
          ]
        }
      ],
      "source": [
        "if not df_ratings_cf_surprise.empty:\n",
        "    # Ambil sampel pengguna yang ada di df_ratings_cf_surprise\n",
        "    unique_users_in_cf = df_ratings_cf_surprise['userId'].unique()\n",
        "    if len(unique_users_in_cf) > 0:\n",
        "        id_pengguna_sampel_cf = np.random.choice(unique_users_in_cf, size=min(3, len(unique_users_in_cf)), replace=False).tolist()\n",
        "        for id_user_contoh_cf in id_pengguna_sampel_cf:\n",
        "            print(f\"\\nContoh Rekomendasi Collaborative Filtering (SVD) untuk Pengguna ID: {id_user_contoh_cf}\")\n",
        "            tampilkan_rekomendasi_svd_terformat(id_user_contoh_cf, jumlah_tampil=5)\n",
        "    else:\n",
        "        print(\"\\nTidak ada pengguna yang memenuhi syarat untuk contoh rekomendasi SVD.\")\n",
        "else:\n",
        "    print(\"\\nTidak ada data rating yang cukup untuk contoh rekomendasi Collaborative Filtering (SVD).\")\n",
        "    id_pengguna_sampel_cf = [] # Pastikan terdefinisi"
      ]
    },
    {
      "cell_type": "markdown",
      "source": [
        "## **C. Contoh Rekomendasi Berbasis Kolaboratif (NCF)**"
      ],
      "metadata": {
        "id": "ptwrVUngQhXf"
      }
    },
    {
      "cell_type": "markdown",
      "source": [
        "Sistem NCF memberikan rekomendasi dengan pendekatan neural network.\n",
        "\n",
        "Rekomendasi Top-5 Berdasarkan NCF"
      ],
      "metadata": {
        "id": "5Xf6KC18YPbp"
      }
    },
    {
      "cell_type": "code",
      "source": [
        "print(\"\\n--- Contoh Rekomendasi NCF ---\")\n",
        "if model_ncf is not None : #Hanya demokan jika model NCF dilatih\n",
        "    # Coba ambil pengguna sampel dari id_pengguna_sampel_cf jika ada, atau acak dari df_ratings_ncf\n",
        "    if 'id_pengguna_sampel_cf' in locals() and id_pengguna_sampel_cf:\n",
        "        pengguna_demo_ncf = id_pengguna_sampel_cf[0]\n",
        "        if pengguna_demo_ncf not in user_to_user_encoded_ncf: # Jika pengguna sampel SVD tidak ada di NCF\n",
        "             if not df_ratings_ncf.empty:\n",
        "                pengguna_demo_ncf = np.random.choice(df_ratings_ncf['userId'].unique())\n",
        "             else:\n",
        "                pengguna_demo_ncf = None\n",
        "    elif not df_ratings_ncf.empty:\n",
        "        pengguna_demo_ncf = np.random.choice(df_ratings_ncf['userId'].unique())\n",
        "    else:\n",
        "        pengguna_demo_ncf = None\n",
        "\n",
        "    if pengguna_demo_ncf is not None:\n",
        "        print(f\"Menampilkan contoh rekomendasi NCF untuk pengguna ID: {pengguna_demo_ncf}\")\n",
        "        tampilkan_rekomendasi_ncf_terformat(pengguna_demo_ncf, jumlah_tampil=5)\n",
        "\n",
        "        if len(id_pengguna_sampel_cf) > 1: # Jika ada pengguna lain di sampel SVD\n",
        "            pengguna_demo_ncf_2 = id_pengguna_sampel_cf[1]\n",
        "            if pengguna_demo_ncf_2 in user_to_user_encoded_ncf: # Cek apakah pengguna ini juga ada di NCF\n",
        "                print(f\"Menampilkan contoh rekomendasi NCF untuk pengguna ID: {pengguna_demo_ncf_2}\")\n",
        "                tampilkan_rekomendasi_ncf_terformat(pengguna_demo_ncf_2, jumlah_tampil=5)\n",
        "    else:\n",
        "        print(\"Tidak dapat menampilkan contoh rekomendasi NCF karena tidak ada pengguna sampel yang valid / model tidak dilatih.\")\n",
        "else:\n",
        "    print(\"Model NCF tidak tersedia untuk demonstrasi.\")"
      ],
      "metadata": {
        "colab": {
          "base_uri": "https://localhost:8080/"
        },
        "id": "GV9uXQi8Qu5E",
        "outputId": "5e3d25c4-284d-40db-8bb5-d03f6191fba4"
      },
      "execution_count": 46,
      "outputs": [
        {
          "output_type": "stream",
          "name": "stdout",
          "text": [
            "\n",
            "--- Contoh Rekomendasi NCF ---\n",
            "Menampilkan contoh rekomendasi NCF untuk pengguna ID: 61\n",
            "-----------------------------------------------------------------------------------------------\n",
            "REKOMENDASI NEURAL COLLABORATIVE FILTERING (NCF) untuk Pengguna ID: 61 (Top 5)\n",
            "-----------------------------------------------------------------------------------------------\n",
            " Peringkat  movieId                                                 title                  genres Prediksi Rating (NCF)\n",
            "         1      318                      Shawshank Redemption, The (1994)             Crime|Drama                 4.948\n",
            "         2     1221                        Godfather: Part II, The (1974)             Crime|Drama                 4.711\n",
            "         3     1193                One Flew Over the Cuckoo's Nest (1975)                   Drama                 4.663\n",
            "         4     1196 Star Wars: Episode V - The Empire Strikes Back (1980) Action|Adventure|Sci-Fi                 4.617\n",
            "         5      858                                 Godfather, The (1972)             Crime|Drama                 4.581\n",
            "-----------------------------------------------------------------------------------------------\\n\n",
            "Menampilkan contoh rekomendasi NCF untuk pengguna ID: 746\n",
            "-----------------------------------------------------------------------------------------------\n",
            "REKOMENDASI NEURAL COLLABORATIVE FILTERING (NCF) untuk Pengguna ID: 746 (Top 5)\n",
            "-----------------------------------------------------------------------------------------------\n",
            " Peringkat  movieId                                                 title                         genres Prediksi Rating (NCF)\n",
            "         1      318                      Shawshank Redemption, The (1994)                    Crime|Drama                 4.007\n",
            "         2      778                                  Trainspotting (1996)             Comedy|Crime|Drama                 3.981\n",
            "         3    44555   Lives of Others, The (Das leben der Anderen) (2006)         Drama|Romance|Thriller                 3.932\n",
            "         4     7153 Lord of the Rings: The Return of the King, The (2003) Action|Adventure|Drama|Fantasy                 3.925\n",
            "         5      593                      Silence of the Lambs, The (1991)          Crime|Horror|Thriller                 3.910\n",
            "-----------------------------------------------------------------------------------------------\\n\n"
          ]
        }
      ]
    },
    {
      "cell_type": "markdown",
      "metadata": {
        "id": "SsoHV1eeZxbp"
      },
      "source": [
        "## D. Contoh Prediksi Rating Spesifik oleh SVD"
      ]
    },
    {
      "cell_type": "markdown",
      "source": [
        "Selain memberikan daftar rekomendasi, model SVD dapat memprediksi rating yang mungkin diberikan oleh pengguna untuk film tertentu yang belum ia tonton.\n"
      ],
      "metadata": {
        "id": "YFZwi81PYJLN"
      }
    },
    {
      "cell_type": "code",
      "execution_count": 47,
      "metadata": {
        "id": "WADGpuy2GysO",
        "colab": {
          "base_uri": "https://localhost:8080/"
        },
        "outputId": "a56f6d44-82ef-4b04-de85-0da4ef161d3f"
      },
      "outputs": [
        {
          "output_type": "stream",
          "name": "stdout",
          "text": [
            "\n",
            "--- Contoh Prediksi Rating Spesifik (SVD) ---\n",
            "Prediksi rating (SVD) untuk Pengguna 61 pada film 'Crimes and Misdemeanors (1989)' (ID: 2973): 3.707\n",
            "  -> Rating asli (jika ada di data): N/A\n",
            "Prediksi rating (SVD) untuk Pengguna 61 pada film 'Of Gods and Men (Des hommes et des dieux) (2010)' (ID: 81385): 3.096\n",
            "  -> Rating asli (jika ada di data): N/A\n"
          ]
        }
      ],
      "source": [
        "print(\"\\n--- Contoh Prediksi Rating Spesifik (SVD) ---\")\n",
        "if trainset_surprise and id_pengguna_sampel_cf and not movies_content_base.empty:\n",
        "    pengguna_untuk_prediksi_spesifik_svd = id_pengguna_sampel_cf[0]\n",
        "    film_untuk_prediksi_spesifik_id_svd = []\n",
        "\n",
        "    all_raw_iids_in_trainset = [trainset_surprise.to_raw_iid(inner_id) for inner_id in trainset_surprise.all_items()]\n",
        "    # Ambil sampel film yang ada di movies_content_base DAN di trainset\n",
        "    candidate_movie_ids = list(set(movies_content_base.index) & set(all_raw_iids_in_trainset))\n",
        "\n",
        "    if candidate_movie_ids:\n",
        "        num_samples = min(2, len(candidate_movie_ids))\n",
        "        film_untuk_prediksi_spesifik_id_svd = np.random.choice(candidate_movie_ids, size=num_samples, replace=False).tolist()\n",
        "\n",
        "    if film_untuk_prediksi_spesifik_id_svd:\n",
        "        for id_film_raw_pred_svd in film_untuk_prediksi_spesifik_id_svd:\n",
        "            judul_film_pred_svd = movieid_to_title_lookup_cb.get(id_film_raw_pred_svd, \"Judul Tidak Diketahui\")\n",
        "            prediksi_rating_obj_svd = svd_model.predict(uid=pengguna_untuk_prediksi_spesifik_svd, iid=id_film_raw_pred_svd)\n",
        "            print(f\"Prediksi rating (SVD) untuk Pengguna {pengguna_untuk_prediksi_spesifik_svd} pada film '{judul_film_pred_svd}' (ID: {id_film_raw_pred_svd}): {prediksi_rating_obj_svd.est:.3f}\")\n",
        "            print(f\"  -> Rating asli (jika ada di data): {prediksi_rating_obj_svd.r_ui if prediksi_rating_obj_svd.r_ui is not None else 'N/A'}\")\n",
        "    else:\n",
        "        print(\"Tidak ada film yang cocok ditemukan untuk contoh prediksi rating spesifik dengan SVD.\")\n",
        "else:\n",
        "    print(\"Tidak cukup data/model SVD tidak dilatih untuk memberikan contoh prediksi rating spesifik.\")"
      ]
    },
    {
      "cell_type": "markdown",
      "source": [
        "## **E. Contoh Prediksi Rating Spesifik oleh NCF**"
      ],
      "metadata": {
        "id": "YdahB-FMQ3K5"
      }
    },
    {
      "cell_type": "markdown",
      "source": [
        "Prediksi Rating Spesifik Menggunakan NCF"
      ],
      "metadata": {
        "id": "qfT3CnCPYR7K"
      }
    },
    {
      "cell_type": "code",
      "source": [
        "print(\"\\n--- Contoh Prediksi Rating Spesifik (NCF) ---\")\n",
        "if model_ncf is not None and 'pengguna_demo_ncf' in locals() and pengguna_demo_ncf is not None:\n",
        "    # Ambil movieId sampel (pastikan ada di movie_to_movie_encoded_ncf)\n",
        "    if movie_to_movie_encoded_ncf: # Cek apakah dictionary tidak kosong\n",
        "        movie_id_asli_sampel_ncf = np.random.choice(list(movie_to_movie_encoded_ncf.keys()), 1)[0]\n",
        "\n",
        "        user_encoded_pred_ncf = user_to_user_encoded_ncf.get(pengguna_demo_ncf)\n",
        "        movie_encoded_pred_ncf = movie_to_movie_encoded_ncf.get(movie_id_asli_sampel_ncf)\n",
        "        # Gunakan movieid_to_title_lookup_cb dari bagian Content-Based untuk mendapatkan judul\n",
        "        judul_film_pred_ncf = movieid_to_title_lookup_cb.get(movie_id_asli_sampel_ncf, \"Judul Tidak Diketahui\")\n",
        "\n",
        "        if user_encoded_pred_ncf is not None and movie_encoded_pred_ncf is not None:\n",
        "            pred_rating_ncf_spec = model_ncf.predict(\n",
        "                [np.array([user_encoded_pred_ncf]), np.array([movie_encoded_pred_ncf])], verbose=0\n",
        "            )[0][0]\n",
        "            print(f\"Prediksi rating (NCF) untuk Pengguna {pengguna_demo_ncf} pada film '{judul_film_pred_ncf}' (ID: {movie_id_asli_sampel_ncf}): {pred_rating_ncf_spec:.3f}\")\n",
        "        else:\n",
        "            print(f\"ID pengguna atau film tidak ditemukan dalam pemetaan NCF untuk prediksi spesifik.\")\n",
        "    else:\n",
        "        print(\"Tidak ada film sampel (movie_to_movie_encoded_ncf kosong) untuk prediksi NCF spesifik.\")\n",
        "else:\n",
        "    print(\"Tidak cukup data/model NCF tidak dilatih untuk contoh prediksi NCF spesifik.\")"
      ],
      "metadata": {
        "colab": {
          "base_uri": "https://localhost:8080/"
        },
        "id": "90NlMP8tQ9Kv",
        "outputId": "8583270b-b200-4dee-9e1d-d9bf1ffbab3d"
      },
      "execution_count": 48,
      "outputs": [
        {
          "output_type": "stream",
          "name": "stdout",
          "text": [
            "\n",
            "--- Contoh Prediksi Rating Spesifik (NCF) ---\n",
            "Prediksi rating (NCF) untuk Pengguna 61 pada film 'Ace Ventura: Pet Detective (1994)' (ID: 344): 2.415\n"
          ]
        }
      ]
    },
    {
      "cell_type": "markdown",
      "metadata": {
        "id": "FiOiDqEVIaiI"
      },
      "source": [
        "## F. Contoh Rekomendasi Hybrid"
      ]
    },
    {
      "cell_type": "markdown",
      "source": [
        "Rekomendasi Hybrid menggabungkan model Content-Based dan Collaborative Filtering (SVD) dengan bobot yang berbeda."
      ],
      "metadata": {
        "id": "a9xUH-tPYNGK"
      }
    },
    {
      "cell_type": "code",
      "execution_count": 49,
      "metadata": {
        "id": "MPnStqRdqKtI",
        "colab": {
          "base_uri": "https://localhost:8080/"
        },
        "outputId": "bd2eb85e-4b12-4abd-9847-c6fe4c7bc521"
      },
      "outputs": [
        {
          "output_type": "stream",
          "name": "stdout",
          "text": [
            "\n",
            "--- Contoh Rekomendasi Hybrid ---\n",
            "\n",
            "Menggunakan film referensi CB: 'Clueless (1995)' untuk Pengguna ID: 61\n",
            "--------------------------------------------------------------------------------------------------------------\n",
            "REKOMENDASI HYBRID untuk Pengguna ID: 61, Ref CB: 'Clueless (1995)' (Top 5)\n",
            "Bobot: SVD=0.6, CB=0.4\n",
            "--------------------------------------------------------------------------------------------------------------\n",
            " Peringkat  movieId                            title                      genres hybrid_score norm_svd_score cb_score\n",
            "         1      858            Godfather, The (1972)                 Crime|Drama       0.5599          0.933    0.000\n",
            "         2      296              Pulp Fiction (1994) Comedy|Crime|Drama|Thriller       0.5393          0.899    0.000\n",
            "         3    58559          Dark Knight, The (2008)     Action|Crime|Drama|IMAX       0.5303          0.884    0.000\n",
            "         4     1221   Godfather: Part II, The (1974)                 Crime|Drama       0.5269          0.878    0.000\n",
            "         5      318 Shawshank Redemption, The (1994)                 Crime|Drama       0.5138          0.856    0.000\n",
            "--------------------------------------------------------------------------------------------------------------\n",
            "\n",
            "--------------------------------------------------------------------------------------------------------------\n",
            "REKOMENDASI HYBRID untuk Pengguna ID: 61, Ref CB: 'Clueless (1995)' (Top 5)\n",
            "Bobot: SVD=0.3, CB=0.7\n",
            "--------------------------------------------------------------------------------------------------------------\n",
            " Peringkat  movieId                    title                 genres hybrid_score norm_svd_score cb_score\n",
            "         1    26958              Emma (1996)                Romance       0.4901          0.000    0.700\n",
            "         2     3079    Mansfield Park (1999)   Comedy|Drama|Romance       0.4787          0.000    0.684\n",
            "         3    31694 Bride & Prejudice (2004) Comedy|Musical|Romance       0.4557          0.000    0.651\n",
            "         4      838              Emma (1996)   Comedy|Drama|Romance       0.4491          0.000    0.642\n",
            "         5    74508        Persuasion (2007)          Drama|Romance       0.4177          0.000    0.597\n",
            "--------------------------------------------------------------------------------------------------------------\n",
            "\n",
            "\n",
            "=== PROSES KESELURUHAN SELESAI ===\n"
          ]
        }
      ],
      "source": [
        "print(\"\\n--- Contoh Rekomendasi Hybrid ---\")\n",
        "if not df_ratings_cf_surprise.empty and id_pengguna_sampel_cf and not movies_content_base.empty:\n",
        "    pengguna_contoh_hybrid = id_pengguna_sampel_cf[0] # Ambil pengguna pertama dari sampel SVD\n",
        "\n",
        "    # Cari film yang disukai pengguna ini untuk referensi CB\n",
        "    film_disukai_pengguna = df_ratings_cf_surprise[\n",
        "        (df_ratings_cf_surprise['userId'] == pengguna_contoh_hybrid) &\n",
        "        (df_ratings_cf_surprise['rating'] >= 4.0)\n",
        "    ]\n",
        "\n",
        "    if not film_disukai_pengguna.empty:\n",
        "        id_film_ref_hybrid = film_disukai_pengguna['movieId'].iloc[0]\n",
        "        if id_film_ref_hybrid in movieid_to_title_lookup_cb:\n",
        "            judul_film_ref_hybrid = movieid_to_title_lookup_cb[id_film_ref_hybrid]\n",
        "            print(f\"\\nMenggunakan film referensi CB: '{judul_film_ref_hybrid}' untuk Pengguna ID: {pengguna_contoh_hybrid}\")\n",
        "            tampilkan_rekomendasi_hybrid_terformat(pengguna_contoh_hybrid, judul_film_ref_hybrid, jumlah_tampil=5, w_svd=0.6, w_cb=0.4)\n",
        "            tampilkan_rekomendasi_hybrid_terformat(pengguna_contoh_hybrid, judul_film_ref_hybrid, jumlah_tampil=5, w_svd=0.3, w_cb=0.7) # Bobot berbeda\n",
        "        else:\n",
        "            print(f\"Judul untuk movieId referensi {id_film_ref_hybrid} tidak ditemukan. Menggunakan judul CB default.\")\n",
        "            tampilkan_rekomendasi_hybrid_terformat(pengguna_contoh_hybrid, contoh_judul_film_cb, jumlah_tampil=5)\n",
        "    else:\n",
        "        print(f\"Tidak ditemukan film yang disukai (rating >= 4.0) oleh Pengguna ID {pengguna_contoh_hybrid} untuk referensi CB.\")\n",
        "        print(f\"Menggunakan judul CB default: '{contoh_judul_film_cb}' untuk Pengguna ID: {pengguna_contoh_hybrid}\")\n",
        "        tampilkan_rekomendasi_hybrid_terformat(pengguna_contoh_hybrid, contoh_judul_film_cb, jumlah_tampil=5)\n",
        "else:\n",
        "    print(\"\\nTidak cukup data untuk contoh rekomendasi Hybrid.\")\n",
        "\n",
        "\n",
        "print(\"\\n=== PROSES KESELURUHAN SELESAI ===\")"
      ]
    }
  ],
  "metadata": {
    "colab": {
      "collapsed_sections": [
        "hhrXL_7REXq2",
        "S-FOz2M9HRof",
        "X9Ho114DHtdy"
      ],
      "provenance": [],
      "toc_visible": true
    },
    "kernelspec": {
      "display_name": "Python 3",
      "name": "python3"
    },
    "language_info": {
      "name": "python"
    }
  },
  "nbformat": 4,
  "nbformat_minor": 0
}